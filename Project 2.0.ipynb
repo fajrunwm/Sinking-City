{
 "cells": [
  {
   "cell_type": "markdown",
   "id": "5b7a24e0",
   "metadata": {},
   "source": [
    "# Proportin of Residential Area"
   ]
  },
  {
   "cell_type": "markdown",
   "id": "5a583ad9",
   "metadata": {},
   "source": [
    "## Green Ratio Index"
   ]
  },
  {
   "cell_type": "markdown",
   "id": "e48603ce",
   "metadata": {},
   "source": [
    "### Load Neighbourhood Boundary"
   ]
  },
  {
   "cell_type": "code",
   "execution_count": 1,
   "id": "3af2d3c0",
   "metadata": {},
   "outputs": [
    {
     "data": {
      "text/html": [
       "<div>\n",
       "<style scoped>\n",
       "    .dataframe tbody tr th:only-of-type {\n",
       "        vertical-align: middle;\n",
       "    }\n",
       "\n",
       "    .dataframe tbody tr th {\n",
       "        vertical-align: top;\n",
       "    }\n",
       "\n",
       "    .dataframe thead th {\n",
       "        text-align: right;\n",
       "    }\n",
       "</style>\n",
       "<table border=\"1\" class=\"dataframe\">\n",
       "  <thead>\n",
       "    <tr style=\"text-align: right;\">\n",
       "      <th></th>\n",
       "      <th>OBJECTID</th>\n",
       "      <th>WADMKD</th>\n",
       "      <th>WADMKC</th>\n",
       "      <th>WADMKK</th>\n",
       "      <th>geometry</th>\n",
       "    </tr>\n",
       "  </thead>\n",
       "  <tbody>\n",
       "    <tr>\n",
       "      <th>0</th>\n",
       "      <td>1.0</td>\n",
       "      <td>CEMPAKA PUTIH BARAT</td>\n",
       "      <td>CEMPAKA PUTIH</td>\n",
       "      <td>JAKARTA PUSAT</td>\n",
       "      <td>POLYGON Z ((106.86789 -6.18105 0, 106.868 -6.1...</td>\n",
       "    </tr>\n",
       "    <tr>\n",
       "      <th>1</th>\n",
       "      <td>2.0</td>\n",
       "      <td>RAWASARI</td>\n",
       "      <td>CEMPAKA PUTIH</td>\n",
       "      <td>JAKARTA PUSAT</td>\n",
       "      <td>POLYGON Z ((106.87438 -6.18729 0, 106.87453 -6...</td>\n",
       "    </tr>\n",
       "    <tr>\n",
       "      <th>2</th>\n",
       "      <td>3.0</td>\n",
       "      <td>MENTENG</td>\n",
       "      <td>MENTENG</td>\n",
       "      <td>JAKARTA PUSAT</td>\n",
       "      <td>POLYGON Z ((106.82074 -6.19411 0, 106.82271 -6...</td>\n",
       "    </tr>\n",
       "    <tr>\n",
       "      <th>3</th>\n",
       "      <td>4.0</td>\n",
       "      <td>PEGANGSAAN</td>\n",
       "      <td>MENTENG</td>\n",
       "      <td>JAKARTA PUSAT</td>\n",
       "      <td>POLYGON Z ((106.84443 -6.1958 0, 106.84456 -6....</td>\n",
       "    </tr>\n",
       "    <tr>\n",
       "      <th>4</th>\n",
       "      <td>5.0</td>\n",
       "      <td>CIKINI</td>\n",
       "      <td>MENTENG</td>\n",
       "      <td>JAKARTA PUSAT</td>\n",
       "      <td>POLYGON Z ((106.83626 -6.18675 0, 106.83635 -6...</td>\n",
       "    </tr>\n",
       "    <tr>\n",
       "      <th>...</th>\n",
       "      <td>...</td>\n",
       "      <td>...</td>\n",
       "      <td>...</td>\n",
       "      <td>...</td>\n",
       "      <td>...</td>\n",
       "    </tr>\n",
       "    <tr>\n",
       "      <th>256</th>\n",
       "      <td>257.0</td>\n",
       "      <td>PONDOK BAMBU</td>\n",
       "      <td>DUREN SAWIT</td>\n",
       "      <td>JAKARTA TIMUR</td>\n",
       "      <td>POLYGON Z ((106.8981 -6.22309 0, 106.89846 -6....</td>\n",
       "    </tr>\n",
       "    <tr>\n",
       "      <th>257</th>\n",
       "      <td>258.0</td>\n",
       "      <td>KLENDER</td>\n",
       "      <td>DUREN SAWIT</td>\n",
       "      <td>JAKARTA TIMUR</td>\n",
       "      <td>POLYGON Z ((106.89904 -6.21328 0, 106.89968 -6...</td>\n",
       "    </tr>\n",
       "    <tr>\n",
       "      <th>258</th>\n",
       "      <td>259.0</td>\n",
       "      <td>PONDOK KELAPA</td>\n",
       "      <td>DUREN SAWIT</td>\n",
       "      <td>JAKARTA TIMUR</td>\n",
       "      <td>POLYGON Z ((106.92704 -6.23133 0, 106.92709 -6...</td>\n",
       "    </tr>\n",
       "    <tr>\n",
       "      <th>259</th>\n",
       "      <td>260.0</td>\n",
       "      <td>CEGER</td>\n",
       "      <td>CIPAYUNG</td>\n",
       "      <td>JAKARTA TIMUR</td>\n",
       "      <td>POLYGON Z ((106.89799 -6.29906 0, 106.89807 -6...</td>\n",
       "    </tr>\n",
       "    <tr>\n",
       "      <th>260</th>\n",
       "      <td>267.0</td>\n",
       "      <td>LUBANG BUAYA</td>\n",
       "      <td>CIPAYUNG</td>\n",
       "      <td>JAKARTA TIMUR</td>\n",
       "      <td>POLYGON Z ((106.91017 -6.28731 0, 106.91012 -6...</td>\n",
       "    </tr>\n",
       "  </tbody>\n",
       "</table>\n",
       "<p>261 rows × 5 columns</p>\n",
       "</div>"
      ],
      "text/plain": [
       "     OBJECTID               WADMKD         WADMKC         WADMKK  \\\n",
       "0         1.0  CEMPAKA PUTIH BARAT  CEMPAKA PUTIH  JAKARTA PUSAT   \n",
       "1         2.0             RAWASARI  CEMPAKA PUTIH  JAKARTA PUSAT   \n",
       "2         3.0              MENTENG        MENTENG  JAKARTA PUSAT   \n",
       "3         4.0           PEGANGSAAN        MENTENG  JAKARTA PUSAT   \n",
       "4         5.0               CIKINI        MENTENG  JAKARTA PUSAT   \n",
       "..        ...                  ...            ...            ...   \n",
       "256     257.0         PONDOK BAMBU    DUREN SAWIT  JAKARTA TIMUR   \n",
       "257     258.0              KLENDER    DUREN SAWIT  JAKARTA TIMUR   \n",
       "258     259.0        PONDOK KELAPA    DUREN SAWIT  JAKARTA TIMUR   \n",
       "259     260.0                CEGER       CIPAYUNG  JAKARTA TIMUR   \n",
       "260     267.0         LUBANG BUAYA       CIPAYUNG  JAKARTA TIMUR   \n",
       "\n",
       "                                              geometry  \n",
       "0    POLYGON Z ((106.86789 -6.18105 0, 106.868 -6.1...  \n",
       "1    POLYGON Z ((106.87438 -6.18729 0, 106.87453 -6...  \n",
       "2    POLYGON Z ((106.82074 -6.19411 0, 106.82271 -6...  \n",
       "3    POLYGON Z ((106.84443 -6.1958 0, 106.84456 -6....  \n",
       "4    POLYGON Z ((106.83626 -6.18675 0, 106.83635 -6...  \n",
       "..                                                 ...  \n",
       "256  POLYGON Z ((106.8981 -6.22309 0, 106.89846 -6....  \n",
       "257  POLYGON Z ((106.89904 -6.21328 0, 106.89968 -6...  \n",
       "258  POLYGON Z ((106.92704 -6.23133 0, 106.92709 -6...  \n",
       "259  POLYGON Z ((106.89799 -6.29906 0, 106.89807 -6...  \n",
       "260  POLYGON Z ((106.91017 -6.28731 0, 106.91012 -6...  \n",
       "\n",
       "[261 rows x 5 columns]"
      ]
     },
     "execution_count": 1,
     "metadata": {},
     "output_type": "execute_result"
    }
   ],
   "source": [
    "import geopandas as gpd\n",
    "\n",
    "# Load the shapefile for Kelurahan (neighbourhood) in Jakarta\n",
    "kelurahan_shp_path = \"[R2402] British Academy - Empowering Resilience In a Sinking City/2. Data/1. Big Data/Area of Interest (Source_ Jakarta Satu)/Kelurahan/adm_dki-jakarta_kelurahan.shp\"\n",
    "kelurahan_gdf = gpd.read_file(kelurahan_shp_path)\n",
    "kelurahan_gdf = kelurahan_gdf[['OBJECTID', 'WADMKD', 'WADMKC', 'WADMKK', 'geometry']]\n",
    "kelurahan_gdf"
   ]
  },
  {
   "cell_type": "code",
   "execution_count": 2,
   "id": "faedcaf6",
   "metadata": {},
   "outputs": [
    {
     "name": "stdout",
     "output_type": "stream",
     "text": [
      "<class 'geopandas.geodataframe.GeoDataFrame'>\n",
      "RangeIndex: 261 entries, 0 to 260\n",
      "Data columns (total 5 columns):\n",
      " #   Column    Non-Null Count  Dtype   \n",
      "---  ------    --------------  -----   \n",
      " 0   OBJECTID  261 non-null    float64 \n",
      " 1   WADMKD    261 non-null    object  \n",
      " 2   WADMKC    261 non-null    object  \n",
      " 3   WADMKK    261 non-null    object  \n",
      " 4   geometry  261 non-null    geometry\n",
      "dtypes: float64(1), geometry(1), object(3)\n",
      "memory usage: 10.3+ KB\n"
     ]
    }
   ],
   "source": [
    "kelurahan_gdf.info()"
   ]
  },
  {
   "cell_type": "code",
   "execution_count": 3,
   "id": "e9a79d76",
   "metadata": {},
   "outputs": [
    {
     "data": {
      "text/plain": [
       "<AxesSubplot: >"
      ]
     },
     "execution_count": 3,
     "metadata": {},
     "output_type": "execute_result"
    },
    {
     "data": {
      "image/png": "[encoded data removed]",
      "text/plain": [
       "<Figure size 1000x800 with 1 Axes>"
      ]
     },
     "metadata": {},
     "output_type": "display_data"
    }
   ],
   "source": [
    "# Plot the residential area\n",
    "kelurahan_gdf.plot(figsize=(10, 8))"
   ]
  },
  {
   "cell_type": "code",
   "execution_count": 4,
   "id": "f6d60706",
   "metadata": {},
   "outputs": [
    {
     "data": {
      "text/html": [
       "<div>\n",
       "<style scoped>\n",
       "    .dataframe tbody tr th:only-of-type {\n",
       "        vertical-align: middle;\n",
       "    }\n",
       "\n",
       "    .dataframe tbody tr th {\n",
       "        vertical-align: top;\n",
       "    }\n",
       "\n",
       "    .dataframe thead th {\n",
       "        text-align: right;\n",
       "    }\n",
       "</style>\n",
       "<table border=\"1\" class=\"dataframe\">\n",
       "  <thead>\n",
       "    <tr style=\"text-align: right;\">\n",
       "      <th></th>\n",
       "      <th>OBJECTID</th>\n",
       "      <th>WADMRW</th>\n",
       "      <th>WADMKD</th>\n",
       "      <th>WADMKC</th>\n",
       "      <th>WADMKK</th>\n",
       "      <th>SHAPE_Area</th>\n",
       "      <th>geometry</th>\n",
       "    </tr>\n",
       "  </thead>\n",
       "  <tbody>\n",
       "    <tr>\n",
       "      <th>0</th>\n",
       "      <td>1.0</td>\n",
       "      <td>010</td>\n",
       "      <td>UJUNG MENTENG</td>\n",
       "      <td>CAKUNG</td>\n",
       "      <td>JAKARTA TIMUR</td>\n",
       "      <td>0.000011</td>\n",
       "      <td>POLYGON Z ((106.96324 -6.19295 0, 106.96326 -6...</td>\n",
       "    </tr>\n",
       "    <tr>\n",
       "      <th>1</th>\n",
       "      <td>2.0</td>\n",
       "      <td>001</td>\n",
       "      <td>CAKUNG BARAT</td>\n",
       "      <td>CAKUNG</td>\n",
       "      <td>JAKARTA TIMUR</td>\n",
       "      <td>0.000032</td>\n",
       "      <td>POLYGON Z ((106.93574 -6.18628 0, 106.93571 -6...</td>\n",
       "    </tr>\n",
       "    <tr>\n",
       "      <th>2</th>\n",
       "      <td>3.0</td>\n",
       "      <td>002</td>\n",
       "      <td>CAKUNG BARAT</td>\n",
       "      <td>CAKUNG</td>\n",
       "      <td>JAKARTA TIMUR</td>\n",
       "      <td>0.000020</td>\n",
       "      <td>POLYGON Z ((106.94078 -6.18394 0, 106.9406 -6....</td>\n",
       "    </tr>\n",
       "    <tr>\n",
       "      <th>3</th>\n",
       "      <td>4.0</td>\n",
       "      <td>003</td>\n",
       "      <td>CAKUNG BARAT</td>\n",
       "      <td>CAKUNG</td>\n",
       "      <td>JAKARTA TIMUR</td>\n",
       "      <td>0.000032</td>\n",
       "      <td>POLYGON Z ((106.94287 -6.18478 0, 106.94288 -6...</td>\n",
       "    </tr>\n",
       "    <tr>\n",
       "      <th>4</th>\n",
       "      <td>5.0</td>\n",
       "      <td>004</td>\n",
       "      <td>CAKUNG BARAT</td>\n",
       "      <td>CAKUNG</td>\n",
       "      <td>JAKARTA TIMUR</td>\n",
       "      <td>0.000020</td>\n",
       "      <td>POLYGON Z ((106.9395 -6.17689 0, 106.94057 -6....</td>\n",
       "    </tr>\n",
       "    <tr>\n",
       "      <th>...</th>\n",
       "      <td>...</td>\n",
       "      <td>...</td>\n",
       "      <td>...</td>\n",
       "      <td>...</td>\n",
       "      <td>...</td>\n",
       "      <td>...</td>\n",
       "      <td>...</td>\n",
       "    </tr>\n",
       "    <tr>\n",
       "      <th>2752</th>\n",
       "      <td>2753.0</td>\n",
       "      <td>002</td>\n",
       "      <td>CIBUBUR</td>\n",
       "      <td>CIRACAS</td>\n",
       "      <td>JAKARTA TIMUR</td>\n",
       "      <td>0.000027</td>\n",
       "      <td>POLYGON Z ((106.8724 -6.34577 0, 106.87261 -6....</td>\n",
       "    </tr>\n",
       "    <tr>\n",
       "      <th>2753</th>\n",
       "      <td>2754.0</td>\n",
       "      <td>003</td>\n",
       "      <td>SETU</td>\n",
       "      <td>CIPAYUNG</td>\n",
       "      <td>JAKARTA TIMUR</td>\n",
       "      <td>0.000053</td>\n",
       "      <td>POLYGON Z ((106.91523 -6.31393 0, 106.91516 -6...</td>\n",
       "    </tr>\n",
       "    <tr>\n",
       "      <th>2754</th>\n",
       "      <td>2755.0</td>\n",
       "      <td>004</td>\n",
       "      <td>SETU</td>\n",
       "      <td>CIPAYUNG</td>\n",
       "      <td>JAKARTA TIMUR</td>\n",
       "      <td>0.000059</td>\n",
       "      <td>POLYGON Z ((106.91731 -6.31345 0, 106.91799 -6...</td>\n",
       "    </tr>\n",
       "    <tr>\n",
       "      <th>2755</th>\n",
       "      <td>2756.0</td>\n",
       "      <td>005</td>\n",
       "      <td>SETU</td>\n",
       "      <td>CIPAYUNG</td>\n",
       "      <td>JAKARTA TIMUR</td>\n",
       "      <td>0.000041</td>\n",
       "      <td>POLYGON Z ((106.91144 -6.30886 0, 106.91183 -6...</td>\n",
       "    </tr>\n",
       "    <tr>\n",
       "      <th>2756</th>\n",
       "      <td>2757.0</td>\n",
       "      <td>006</td>\n",
       "      <td>SETU</td>\n",
       "      <td>CIPAYUNG</td>\n",
       "      <td>JAKARTA TIMUR</td>\n",
       "      <td>0.000006</td>\n",
       "      <td>POLYGON Z ((106.92125 -6.3054 0, 106.92127 -6....</td>\n",
       "    </tr>\n",
       "  </tbody>\n",
       "</table>\n",
       "<p>2757 rows × 7 columns</p>\n",
       "</div>"
      ],
      "text/plain": [
       "      OBJECTID WADMRW         WADMKD    WADMKC         WADMKK  SHAPE_Area  \\\n",
       "0          1.0    010  UJUNG MENTENG    CAKUNG  JAKARTA TIMUR    0.000011   \n",
       "1          2.0    001   CAKUNG BARAT    CAKUNG  JAKARTA TIMUR    0.000032   \n",
       "2          3.0    002   CAKUNG BARAT    CAKUNG  JAKARTA TIMUR    0.000020   \n",
       "3          4.0    003   CAKUNG BARAT    CAKUNG  JAKARTA TIMUR    0.000032   \n",
       "4          5.0    004   CAKUNG BARAT    CAKUNG  JAKARTA TIMUR    0.000020   \n",
       "...        ...    ...            ...       ...            ...         ...   \n",
       "2752    2753.0    002        CIBUBUR   CIRACAS  JAKARTA TIMUR    0.000027   \n",
       "2753    2754.0    003           SETU  CIPAYUNG  JAKARTA TIMUR    0.000053   \n",
       "2754    2755.0    004           SETU  CIPAYUNG  JAKARTA TIMUR    0.000059   \n",
       "2755    2756.0    005           SETU  CIPAYUNG  JAKARTA TIMUR    0.000041   \n",
       "2756    2757.0    006           SETU  CIPAYUNG  JAKARTA TIMUR    0.000006   \n",
       "\n",
       "                                               geometry  \n",
       "0     POLYGON Z ((106.96324 -6.19295 0, 106.96326 -6...  \n",
       "1     POLYGON Z ((106.93574 -6.18628 0, 106.93571 -6...  \n",
       "2     POLYGON Z ((106.94078 -6.18394 0, 106.9406 -6....  \n",
       "3     POLYGON Z ((106.94287 -6.18478 0, 106.94288 -6...  \n",
       "4     POLYGON Z ((106.9395 -6.17689 0, 106.94057 -6....  \n",
       "...                                                 ...  \n",
       "2752  POLYGON Z ((106.8724 -6.34577 0, 106.87261 -6....  \n",
       "2753  POLYGON Z ((106.91523 -6.31393 0, 106.91516 -6...  \n",
       "2754  POLYGON Z ((106.91731 -6.31345 0, 106.91799 -6...  \n",
       "2755  POLYGON Z ((106.91144 -6.30886 0, 106.91183 -6...  \n",
       "2756  POLYGON Z ((106.92125 -6.3054 0, 106.92127 -6....  \n",
       "\n",
       "[2757 rows x 7 columns]"
      ]
     },
     "execution_count": 4,
     "metadata": {},
     "output_type": "execute_result"
    }
   ],
   "source": [
    "# Load the RW (Rukun Warga) shapefile for Jakarta\n",
    "rw_shp_path = r\"D:\\2. WAHIDIL\\Careers\\Sinking City\\[R2402] British Academy - Empowering Resilience In a Sinking City\\2. Data\\1. Big Data\\Area of Interest (Source_ Jakarta Satu)\\RW\\Administrasi RW Jakarta.shp\"\n",
    "rw_gdf = gpd.read_file(rw_shp_path)\n",
    "rw_gdf = rw_gdf[['OBJECTID', 'WADMRW', 'WADMKD', 'WADMKC', 'WADMKK', 'SHAPE_Area', 'geometry']]\n",
    "rw_gdf"
   ]
  },
  {
   "cell_type": "code",
   "execution_count": 5,
   "id": "76b1a612",
   "metadata": {},
   "outputs": [],
   "source": [
    "# Exclude WADMKK 'KAB.ADM.KEP.SERIBU'\n",
    "rw_gdf = rw_gdf[rw_gdf['WADMKK'] != 'KAB.ADM.KEP.SERIBU'].reset_index(drop=True)"
   ]
  },
  {
   "cell_type": "code",
   "execution_count": 6,
   "id": "15e9e953",
   "metadata": {},
   "outputs": [
    {
     "name": "stdout",
     "output_type": "stream",
     "text": [
      "<class 'geopandas.geodataframe.GeoDataFrame'>\n",
      "RangeIndex: 2733 entries, 0 to 2732\n",
      "Data columns (total 7 columns):\n",
      " #   Column      Non-Null Count  Dtype   \n",
      "---  ------      --------------  -----   \n",
      " 0   OBJECTID    2733 non-null   float64 \n",
      " 1   WADMRW      2731 non-null   object  \n",
      " 2   WADMKD      2733 non-null   object  \n",
      " 3   WADMKC      2733 non-null   object  \n",
      " 4   WADMKK      2733 non-null   object  \n",
      " 5   SHAPE_Area  2733 non-null   float64 \n",
      " 6   geometry    2733 non-null   geometry\n",
      "dtypes: float64(2), geometry(1), object(4)\n",
      "memory usage: 149.6+ KB\n"
     ]
    }
   ],
   "source": [
    "rw_gdf.info()"
   ]
  },
  {
   "cell_type": "code",
   "execution_count": 7,
   "id": "0c4d54db",
   "metadata": {},
   "outputs": [
    {
     "data": {
      "text/plain": [
       "<AxesSubplot: >"
      ]
     },
     "execution_count": 7,
     "metadata": {},
     "output_type": "execute_result"
    },
    {
     "data": {
      "image/png": "[encoded data removed]",
      "text/plain": [
       "<Figure size 1000x800 with 1 Axes>"
      ]
     },
     "metadata": {},
     "output_type": "display_data"
    }
   ],
   "source": [
    "# Plot the loaded shapefile to visualize\n",
    "rw_gdf.plot(figsize=(10, 8))"
   ]
  },
  {
   "cell_type": "code",
   "execution_count": 8,
   "id": "5c6dc4fa",
   "metadata": {},
   "outputs": [],
   "source": [
    "# Define the block unit for subsequent analysis\n",
    "block_unit = rw_gdf.copy()"
   ]
  },
  {
   "cell_type": "code",
   "execution_count": 9,
   "id": "b5a0e4ca",
   "metadata": {},
   "outputs": [],
   "source": [
    "# Combine WADMKD and WADMRW into a single column for RW as unique identifier, named 'block'\n",
    "block_unit['block'] = block_unit['WADMKD'].astype(str) + ' RW ' + block_unit['WADMRW'].astype(str)"
   ]
  },
  {
   "cell_type": "code",
   "execution_count": 10,
   "id": "e098296d",
   "metadata": {},
   "outputs": [
    {
     "data": {
      "text/html": [
       "<div>\n",
       "<style scoped>\n",
       "    .dataframe tbody tr th:only-of-type {\n",
       "        vertical-align: middle;\n",
       "    }\n",
       "\n",
       "    .dataframe tbody tr th {\n",
       "        vertical-align: top;\n",
       "    }\n",
       "\n",
       "    .dataframe thead th {\n",
       "        text-align: right;\n",
       "    }\n",
       "</style>\n",
       "<table border=\"1\" class=\"dataframe\">\n",
       "  <thead>\n",
       "    <tr style=\"text-align: right;\">\n",
       "      <th></th>\n",
       "      <th>OBJECTID</th>\n",
       "      <th>WADMRW</th>\n",
       "      <th>WADMKD</th>\n",
       "      <th>WADMKC</th>\n",
       "      <th>WADMKK</th>\n",
       "      <th>SHAPE_Area</th>\n",
       "      <th>geometry</th>\n",
       "      <th>block</th>\n",
       "    </tr>\n",
       "  </thead>\n",
       "  <tbody>\n",
       "    <tr>\n",
       "      <th>0</th>\n",
       "      <td>1.0</td>\n",
       "      <td>010</td>\n",
       "      <td>UJUNG MENTENG</td>\n",
       "      <td>CAKUNG</td>\n",
       "      <td>JAKARTA TIMUR</td>\n",
       "      <td>0.000011</td>\n",
       "      <td>POLYGON Z ((106.96324 -6.19295 0, 106.96326 -6...</td>\n",
       "      <td>UJUNG MENTENG RW 010</td>\n",
       "    </tr>\n",
       "    <tr>\n",
       "      <th>1</th>\n",
       "      <td>2.0</td>\n",
       "      <td>001</td>\n",
       "      <td>CAKUNG BARAT</td>\n",
       "      <td>CAKUNG</td>\n",
       "      <td>JAKARTA TIMUR</td>\n",
       "      <td>0.000032</td>\n",
       "      <td>POLYGON Z ((106.93574 -6.18628 0, 106.93571 -6...</td>\n",
       "      <td>CAKUNG BARAT RW 001</td>\n",
       "    </tr>\n",
       "    <tr>\n",
       "      <th>2</th>\n",
       "      <td>3.0</td>\n",
       "      <td>002</td>\n",
       "      <td>CAKUNG BARAT</td>\n",
       "      <td>CAKUNG</td>\n",
       "      <td>JAKARTA TIMUR</td>\n",
       "      <td>0.000020</td>\n",
       "      <td>POLYGON Z ((106.94078 -6.18394 0, 106.9406 -6....</td>\n",
       "      <td>CAKUNG BARAT RW 002</td>\n",
       "    </tr>\n",
       "    <tr>\n",
       "      <th>3</th>\n",
       "      <td>4.0</td>\n",
       "      <td>003</td>\n",
       "      <td>CAKUNG BARAT</td>\n",
       "      <td>CAKUNG</td>\n",
       "      <td>JAKARTA TIMUR</td>\n",
       "      <td>0.000032</td>\n",
       "      <td>POLYGON Z ((106.94287 -6.18478 0, 106.94288 -6...</td>\n",
       "      <td>CAKUNG BARAT RW 003</td>\n",
       "    </tr>\n",
       "    <tr>\n",
       "      <th>4</th>\n",
       "      <td>5.0</td>\n",
       "      <td>004</td>\n",
       "      <td>CAKUNG BARAT</td>\n",
       "      <td>CAKUNG</td>\n",
       "      <td>JAKARTA TIMUR</td>\n",
       "      <td>0.000020</td>\n",
       "      <td>POLYGON Z ((106.9395 -6.17689 0, 106.94057 -6....</td>\n",
       "      <td>CAKUNG BARAT RW 004</td>\n",
       "    </tr>\n",
       "    <tr>\n",
       "      <th>...</th>\n",
       "      <td>...</td>\n",
       "      <td>...</td>\n",
       "      <td>...</td>\n",
       "      <td>...</td>\n",
       "      <td>...</td>\n",
       "      <td>...</td>\n",
       "      <td>...</td>\n",
       "      <td>...</td>\n",
       "    </tr>\n",
       "    <tr>\n",
       "      <th>2728</th>\n",
       "      <td>2753.0</td>\n",
       "      <td>002</td>\n",
       "      <td>CIBUBUR</td>\n",
       "      <td>CIRACAS</td>\n",
       "      <td>JAKARTA TIMUR</td>\n",
       "      <td>0.000027</td>\n",
       "      <td>POLYGON Z ((106.8724 -6.34577 0, 106.87261 -6....</td>\n",
       "      <td>CIBUBUR RW 002</td>\n",
       "    </tr>\n",
       "    <tr>\n",
       "      <th>2729</th>\n",
       "      <td>2754.0</td>\n",
       "      <td>003</td>\n",
       "      <td>SETU</td>\n",
       "      <td>CIPAYUNG</td>\n",
       "      <td>JAKARTA TIMUR</td>\n",
       "      <td>0.000053</td>\n",
       "      <td>POLYGON Z ((106.91523 -6.31393 0, 106.91516 -6...</td>\n",
       "      <td>SETU RW 003</td>\n",
       "    </tr>\n",
       "    <tr>\n",
       "      <th>2730</th>\n",
       "      <td>2755.0</td>\n",
       "      <td>004</td>\n",
       "      <td>SETU</td>\n",
       "      <td>CIPAYUNG</td>\n",
       "      <td>JAKARTA TIMUR</td>\n",
       "      <td>0.000059</td>\n",
       "      <td>POLYGON Z ((106.91731 -6.31345 0, 106.91799 -6...</td>\n",
       "      <td>SETU RW 004</td>\n",
       "    </tr>\n",
       "    <tr>\n",
       "      <th>2731</th>\n",
       "      <td>2756.0</td>\n",
       "      <td>005</td>\n",
       "      <td>SETU</td>\n",
       "      <td>CIPAYUNG</td>\n",
       "      <td>JAKARTA TIMUR</td>\n",
       "      <td>0.000041</td>\n",
       "      <td>POLYGON Z ((106.91144 -6.30886 0, 106.91183 -6...</td>\n",
       "      <td>SETU RW 005</td>\n",
       "    </tr>\n",
       "    <tr>\n",
       "      <th>2732</th>\n",
       "      <td>2757.0</td>\n",
       "      <td>006</td>\n",
       "      <td>SETU</td>\n",
       "      <td>CIPAYUNG</td>\n",
       "      <td>JAKARTA TIMUR</td>\n",
       "      <td>0.000006</td>\n",
       "      <td>POLYGON Z ((106.92125 -6.3054 0, 106.92127 -6....</td>\n",
       "      <td>SETU RW 006</td>\n",
       "    </tr>\n",
       "  </tbody>\n",
       "</table>\n",
       "<p>2733 rows × 8 columns</p>\n",
       "</div>"
      ],
      "text/plain": [
       "      OBJECTID WADMRW         WADMKD    WADMKC         WADMKK  SHAPE_Area  \\\n",
       "0          1.0    010  UJUNG MENTENG    CAKUNG  JAKARTA TIMUR    0.000011   \n",
       "1          2.0    001   CAKUNG BARAT    CAKUNG  JAKARTA TIMUR    0.000032   \n",
       "2          3.0    002   CAKUNG BARAT    CAKUNG  JAKARTA TIMUR    0.000020   \n",
       "3          4.0    003   CAKUNG BARAT    CAKUNG  JAKARTA TIMUR    0.000032   \n",
       "4          5.0    004   CAKUNG BARAT    CAKUNG  JAKARTA TIMUR    0.000020   \n",
       "...        ...    ...            ...       ...            ...         ...   \n",
       "2728    2753.0    002        CIBUBUR   CIRACAS  JAKARTA TIMUR    0.000027   \n",
       "2729    2754.0    003           SETU  CIPAYUNG  JAKARTA TIMUR    0.000053   \n",
       "2730    2755.0    004           SETU  CIPAYUNG  JAKARTA TIMUR    0.000059   \n",
       "2731    2756.0    005           SETU  CIPAYUNG  JAKARTA TIMUR    0.000041   \n",
       "2732    2757.0    006           SETU  CIPAYUNG  JAKARTA TIMUR    0.000006   \n",
       "\n",
       "                                               geometry                 block  \n",
       "0     POLYGON Z ((106.96324 -6.19295 0, 106.96326 -6...  UJUNG MENTENG RW 010  \n",
       "1     POLYGON Z ((106.93574 -6.18628 0, 106.93571 -6...   CAKUNG BARAT RW 001  \n",
       "2     POLYGON Z ((106.94078 -6.18394 0, 106.9406 -6....   CAKUNG BARAT RW 002  \n",
       "3     POLYGON Z ((106.94287 -6.18478 0, 106.94288 -6...   CAKUNG BARAT RW 003  \n",
       "4     POLYGON Z ((106.9395 -6.17689 0, 106.94057 -6....   CAKUNG BARAT RW 004  \n",
       "...                                                 ...                   ...  \n",
       "2728  POLYGON Z ((106.8724 -6.34577 0, 106.87261 -6....        CIBUBUR RW 002  \n",
       "2729  POLYGON Z ((106.91523 -6.31393 0, 106.91516 -6...           SETU RW 003  \n",
       "2730  POLYGON Z ((106.91731 -6.31345 0, 106.91799 -6...           SETU RW 004  \n",
       "2731  POLYGON Z ((106.91144 -6.30886 0, 106.91183 -6...           SETU RW 005  \n",
       "2732  POLYGON Z ((106.92125 -6.3054 0, 106.92127 -6....           SETU RW 006  \n",
       "\n",
       "[2733 rows x 8 columns]"
      ]
     },
     "execution_count": 10,
     "metadata": {},
     "output_type": "execute_result"
    }
   ],
   "source": [
    "# Inspect the updated block unit DataFrame\n",
    "block_unit"
   ]
  },
  {
   "cell_type": "markdown",
   "id": "d8f65c3d",
   "metadata": {},
   "source": [
    "### Calculate Green Ratio"
   ]
  },
  {
   "cell_type": "code",
   "execution_count": 11,
   "id": "72b6d4e8",
   "metadata": {},
   "outputs": [
    {
     "data": {
      "text/plain": [
       "<open DatasetReader name='D:\\2. WAHIDIL\\Careers\\Sinking City\\[R2402] British Academy - Empowering Resilience In a Sinking City\\2. Data\\1. Big Data\\Vegetation Area (Source_ NDVI - Landsat Imagery)\\NDVI May 2025\\NDVI_2024.tif' mode='r'>"
      ]
     },
     "execution_count": 11,
     "metadata": {},
     "output_type": "execute_result"
    }
   ],
   "source": [
    "import rasterio\n",
    "\n",
    "# Load the NDVI raster dataset for May 2024\n",
    "ndvi_path = r\"D:\\2. WAHIDIL\\Careers\\Sinking City\\[R2402] British Academy - Empowering Resilience In a Sinking City\\2. Data\\1. Big Data\\Vegetation Area (Source_ NDVI - Landsat Imagery)\\NDVI May 2025\\NDVI_2024.tif\"\n",
    "ndvi_dataset = rasterio.open(ndvi_path)\n",
    "ndvi_dataset"
   ]
  },
  {
   "cell_type": "code",
   "execution_count": 12,
   "id": "8005f6b8",
   "metadata": {},
   "outputs": [],
   "source": [
    "import numpy as np\n",
    "from rasterio import features\n",
    "\n",
    "# Read NDVI data and transform\n",
    "ndvi = ndvi_dataset.read(1)\n",
    "ndvi_transform = ndvi_dataset.transform\n",
    "\n",
    "# Define NDVI threshold for green area (e.g., > 0.25)\n",
    "green_threshold = 0.25\n",
    "\n",
    "# Prepare a list to store green ratios\n",
    "green_ratios = []\n",
    "\n",
    "for geom in block_unit.geometry:\n",
    "    # Rasterize the current block unit polygon to match NDVI raster\n",
    "    mask = features.geometry_mask([geom], out_shape=ndvi.shape, transform=ndvi_transform, invert=True)\n",
    "    ndvi_masked = np.where(mask, ndvi, np.nan)\n",
    "    total_pixels = np.count_nonzero(~np.isnan(ndvi_masked))\n",
    "    green_pixels = np.count_nonzero(ndvi_masked > green_threshold)\n",
    "    green_ratio = green_pixels / total_pixels if total_pixels > 0 else np.nan\n",
    "    green_ratios.append(green_ratio)\n",
    "\n",
    "block_unit['green_ratio'] = green_ratios"
   ]
  },
  {
   "cell_type": "code",
   "execution_count": 13,
   "id": "1b33aace",
   "metadata": {},
   "outputs": [
    {
     "data": {
      "text/html": [
       "<div>\n",
       "<style scoped>\n",
       "    .dataframe tbody tr th:only-of-type {\n",
       "        vertical-align: middle;\n",
       "    }\n",
       "\n",
       "    .dataframe tbody tr th {\n",
       "        vertical-align: top;\n",
       "    }\n",
       "\n",
       "    .dataframe thead th {\n",
       "        text-align: right;\n",
       "    }\n",
       "</style>\n",
       "<table border=\"1\" class=\"dataframe\">\n",
       "  <thead>\n",
       "    <tr style=\"text-align: right;\">\n",
       "      <th></th>\n",
       "      <th>OBJECTID</th>\n",
       "      <th>WADMRW</th>\n",
       "      <th>WADMKD</th>\n",
       "      <th>WADMKC</th>\n",
       "      <th>WADMKK</th>\n",
       "      <th>SHAPE_Area</th>\n",
       "      <th>geometry</th>\n",
       "      <th>block</th>\n",
       "      <th>green_ratio</th>\n",
       "    </tr>\n",
       "  </thead>\n",
       "  <tbody>\n",
       "    <tr>\n",
       "      <th>0</th>\n",
       "      <td>1.0</td>\n",
       "      <td>010</td>\n",
       "      <td>UJUNG MENTENG</td>\n",
       "      <td>CAKUNG</td>\n",
       "      <td>JAKARTA TIMUR</td>\n",
       "      <td>0.000011</td>\n",
       "      <td>POLYGON Z ((106.96324 -6.19295 0, 106.96326 -6...</td>\n",
       "      <td>UJUNG MENTENG RW 010</td>\n",
       "      <td>0.076389</td>\n",
       "    </tr>\n",
       "    <tr>\n",
       "      <th>1</th>\n",
       "      <td>2.0</td>\n",
       "      <td>001</td>\n",
       "      <td>CAKUNG BARAT</td>\n",
       "      <td>CAKUNG</td>\n",
       "      <td>JAKARTA TIMUR</td>\n",
       "      <td>0.000032</td>\n",
       "      <td>POLYGON Z ((106.93574 -6.18628 0, 106.93571 -6...</td>\n",
       "      <td>CAKUNG BARAT RW 001</td>\n",
       "      <td>0.041096</td>\n",
       "    </tr>\n",
       "    <tr>\n",
       "      <th>2</th>\n",
       "      <td>3.0</td>\n",
       "      <td>002</td>\n",
       "      <td>CAKUNG BARAT</td>\n",
       "      <td>CAKUNG</td>\n",
       "      <td>JAKARTA TIMUR</td>\n",
       "      <td>0.000020</td>\n",
       "      <td>POLYGON Z ((106.94078 -6.18394 0, 106.9406 -6....</td>\n",
       "      <td>CAKUNG BARAT RW 002</td>\n",
       "      <td>0.025362</td>\n",
       "    </tr>\n",
       "    <tr>\n",
       "      <th>3</th>\n",
       "      <td>4.0</td>\n",
       "      <td>003</td>\n",
       "      <td>CAKUNG BARAT</td>\n",
       "      <td>CAKUNG</td>\n",
       "      <td>JAKARTA TIMUR</td>\n",
       "      <td>0.000032</td>\n",
       "      <td>POLYGON Z ((106.94287 -6.18478 0, 106.94288 -6...</td>\n",
       "      <td>CAKUNG BARAT RW 003</td>\n",
       "      <td>0.139640</td>\n",
       "    </tr>\n",
       "    <tr>\n",
       "      <th>4</th>\n",
       "      <td>5.0</td>\n",
       "      <td>004</td>\n",
       "      <td>CAKUNG BARAT</td>\n",
       "      <td>CAKUNG</td>\n",
       "      <td>JAKARTA TIMUR</td>\n",
       "      <td>0.000020</td>\n",
       "      <td>POLYGON Z ((106.9395 -6.17689 0, 106.94057 -6....</td>\n",
       "      <td>CAKUNG BARAT RW 004</td>\n",
       "      <td>0.041812</td>\n",
       "    </tr>\n",
       "    <tr>\n",
       "      <th>...</th>\n",
       "      <td>...</td>\n",
       "      <td>...</td>\n",
       "      <td>...</td>\n",
       "      <td>...</td>\n",
       "      <td>...</td>\n",
       "      <td>...</td>\n",
       "      <td>...</td>\n",
       "      <td>...</td>\n",
       "      <td>...</td>\n",
       "    </tr>\n",
       "    <tr>\n",
       "      <th>2728</th>\n",
       "      <td>2753.0</td>\n",
       "      <td>002</td>\n",
       "      <td>CIBUBUR</td>\n",
       "      <td>CIRACAS</td>\n",
       "      <td>JAKARTA TIMUR</td>\n",
       "      <td>0.000027</td>\n",
       "      <td>POLYGON Z ((106.8724 -6.34577 0, 106.87261 -6....</td>\n",
       "      <td>CIBUBUR RW 002</td>\n",
       "      <td>0.021918</td>\n",
       "    </tr>\n",
       "    <tr>\n",
       "      <th>2729</th>\n",
       "      <td>2754.0</td>\n",
       "      <td>003</td>\n",
       "      <td>SETU</td>\n",
       "      <td>CIPAYUNG</td>\n",
       "      <td>JAKARTA TIMUR</td>\n",
       "      <td>0.000053</td>\n",
       "      <td>POLYGON Z ((106.91523 -6.31393 0, 106.91516 -6...</td>\n",
       "      <td>SETU RW 003</td>\n",
       "      <td>0.303694</td>\n",
       "    </tr>\n",
       "    <tr>\n",
       "      <th>2730</th>\n",
       "      <td>2755.0</td>\n",
       "      <td>004</td>\n",
       "      <td>SETU</td>\n",
       "      <td>CIPAYUNG</td>\n",
       "      <td>JAKARTA TIMUR</td>\n",
       "      <td>0.000059</td>\n",
       "      <td>POLYGON Z ((106.91731 -6.31345 0, 106.91799 -6...</td>\n",
       "      <td>SETU RW 004</td>\n",
       "      <td>0.196364</td>\n",
       "    </tr>\n",
       "    <tr>\n",
       "      <th>2731</th>\n",
       "      <td>2756.0</td>\n",
       "      <td>005</td>\n",
       "      <td>SETU</td>\n",
       "      <td>CIPAYUNG</td>\n",
       "      <td>JAKARTA TIMUR</td>\n",
       "      <td>0.000041</td>\n",
       "      <td>POLYGON Z ((106.91144 -6.30886 0, 106.91183 -6...</td>\n",
       "      <td>SETU RW 005</td>\n",
       "      <td>0.158730</td>\n",
       "    </tr>\n",
       "    <tr>\n",
       "      <th>2732</th>\n",
       "      <td>2757.0</td>\n",
       "      <td>006</td>\n",
       "      <td>SETU</td>\n",
       "      <td>CIPAYUNG</td>\n",
       "      <td>JAKARTA TIMUR</td>\n",
       "      <td>0.000006</td>\n",
       "      <td>POLYGON Z ((106.92125 -6.3054 0, 106.92127 -6....</td>\n",
       "      <td>SETU RW 006</td>\n",
       "      <td>0.000000</td>\n",
       "    </tr>\n",
       "  </tbody>\n",
       "</table>\n",
       "<p>2733 rows × 9 columns</p>\n",
       "</div>"
      ],
      "text/plain": [
       "      OBJECTID WADMRW         WADMKD    WADMKC         WADMKK  SHAPE_Area  \\\n",
       "0          1.0    010  UJUNG MENTENG    CAKUNG  JAKARTA TIMUR    0.000011   \n",
       "1          2.0    001   CAKUNG BARAT    CAKUNG  JAKARTA TIMUR    0.000032   \n",
       "2          3.0    002   CAKUNG BARAT    CAKUNG  JAKARTA TIMUR    0.000020   \n",
       "3          4.0    003   CAKUNG BARAT    CAKUNG  JAKARTA TIMUR    0.000032   \n",
       "4          5.0    004   CAKUNG BARAT    CAKUNG  JAKARTA TIMUR    0.000020   \n",
       "...        ...    ...            ...       ...            ...         ...   \n",
       "2728    2753.0    002        CIBUBUR   CIRACAS  JAKARTA TIMUR    0.000027   \n",
       "2729    2754.0    003           SETU  CIPAYUNG  JAKARTA TIMUR    0.000053   \n",
       "2730    2755.0    004           SETU  CIPAYUNG  JAKARTA TIMUR    0.000059   \n",
       "2731    2756.0    005           SETU  CIPAYUNG  JAKARTA TIMUR    0.000041   \n",
       "2732    2757.0    006           SETU  CIPAYUNG  JAKARTA TIMUR    0.000006   \n",
       "\n",
       "                                               geometry                 block  \\\n",
       "0     POLYGON Z ((106.96324 -6.19295 0, 106.96326 -6...  UJUNG MENTENG RW 010   \n",
       "1     POLYGON Z ((106.93574 -6.18628 0, 106.93571 -6...   CAKUNG BARAT RW 001   \n",
       "2     POLYGON Z ((106.94078 -6.18394 0, 106.9406 -6....   CAKUNG BARAT RW 002   \n",
       "3     POLYGON Z ((106.94287 -6.18478 0, 106.94288 -6...   CAKUNG BARAT RW 003   \n",
       "4     POLYGON Z ((106.9395 -6.17689 0, 106.94057 -6....   CAKUNG BARAT RW 004   \n",
       "...                                                 ...                   ...   \n",
       "2728  POLYGON Z ((106.8724 -6.34577 0, 106.87261 -6....        CIBUBUR RW 002   \n",
       "2729  POLYGON Z ((106.91523 -6.31393 0, 106.91516 -6...           SETU RW 003   \n",
       "2730  POLYGON Z ((106.91731 -6.31345 0, 106.91799 -6...           SETU RW 004   \n",
       "2731  POLYGON Z ((106.91144 -6.30886 0, 106.91183 -6...           SETU RW 005   \n",
       "2732  POLYGON Z ((106.92125 -6.3054 0, 106.92127 -6....           SETU RW 006   \n",
       "\n",
       "      green_ratio  \n",
       "0        0.076389  \n",
       "1        0.041096  \n",
       "2        0.025362  \n",
       "3        0.139640  \n",
       "4        0.041812  \n",
       "...           ...  \n",
       "2728     0.021918  \n",
       "2729     0.303694  \n",
       "2730     0.196364  \n",
       "2731     0.158730  \n",
       "2732     0.000000  \n",
       "\n",
       "[2733 rows x 9 columns]"
      ]
     },
     "execution_count": 13,
     "metadata": {},
     "output_type": "execute_result"
    }
   ],
   "source": [
    "# Show the green ratio for each block unit\n",
    "block_unit.sort_values(by='green_ratio', ascending=False)\n",
    "block_unit"
   ]
  },
  {
   "cell_type": "code",
   "execution_count": 14,
   "id": "0efc9a92",
   "metadata": {},
   "outputs": [
    {
     "name": "stdout",
     "output_type": "stream",
     "text": [
      "<class 'geopandas.geodataframe.GeoDataFrame'>\n",
      "RangeIndex: 2733 entries, 0 to 2732\n",
      "Data columns (total 9 columns):\n",
      " #   Column       Non-Null Count  Dtype   \n",
      "---  ------       --------------  -----   \n",
      " 0   OBJECTID     2733 non-null   float64 \n",
      " 1   WADMRW       2731 non-null   object  \n",
      " 2   WADMKD       2733 non-null   object  \n",
      " 3   WADMKC       2733 non-null   object  \n",
      " 4   WADMKK       2733 non-null   object  \n",
      " 5   SHAPE_Area   2733 non-null   float64 \n",
      " 6   geometry     2733 non-null   geometry\n",
      " 7   block        2733 non-null   object  \n",
      " 8   green_ratio  2732 non-null   float64 \n",
      "dtypes: float64(3), geometry(1), object(5)\n",
      "memory usage: 192.3+ KB\n"
     ]
    }
   ],
   "source": [
    "block_unit.info()"
   ]
  },
  {
   "cell_type": "markdown",
   "id": "4381df6a",
   "metadata": {},
   "source": [
    "### Calcualate Green Ratio Enriched (by NDBI)"
   ]
  },
  {
   "cell_type": "code",
   "execution_count": 15,
   "id": "ca4a37c7",
   "metadata": {},
   "outputs": [],
   "source": [
    "# # Load the NDBI raster dataset for May 2024\n",
    "# ndbi_path = r\"D:\\2. WAHIDIL\\Careers\\Sinking City\\[R2402] British Academy - Empowering Resilience In a Sinking City\\2. Data\\1. Big Data\\Land Cover (Source_ NDBI - Landsat)\\Landcover 1 May 2025\\NDBI_2024.tif\"\n",
    "# ndbi_dataset = rasterio.open(ndbi_path)\n",
    "# ndbi_dataset"
   ]
  },
  {
   "cell_type": "code",
   "execution_count": 16,
   "id": "45b5cf32",
   "metadata": {
    "vscode": {
     "languageId": "ruby"
    }
   },
   "outputs": [],
   "source": [
    "# # Read NDBI data\n",
    "# ndbi = ndbi_dataset.read(1)\n",
    "\n",
    "# # Calculate green ratio with both NDVI > 0.3 and NDBI < 0\n",
    "# green_ratios_enrich = []\n",
    "\n",
    "# for geom in block_unit.geometry:\n",
    "#     mask = features.geometry_mask([geom], out_shape=ndvi.shape, transform=ndvi_transform, invert=True)\n",
    "#     ndvi_masked = np.where(mask, ndvi, np.nan)\n",
    "#     ndbi_masked = np.where(mask, ndbi, np.nan)\n",
    "#     total_pixels = np.count_nonzero(~np.isnan(ndvi_masked))\n",
    "#     green_pixels = np.count_nonzero((ndvi_masked > green_threshold) & (ndbi_masked < 0)) # NDBI < 0 indicates non-built-up area (water/vegetation)\n",
    "#     green_ratio_enrich = green_pixels / total_pixels if total_pixels > 0 else np.nan\n",
    "#     green_ratios_enrich.append(green_ratio_enrich)\n",
    "\n",
    "# block_unit['green_ratio_enrich'] = green_ratios_enrich"
   ]
  },
  {
   "cell_type": "code",
   "execution_count": 17,
   "id": "2d310a7f",
   "metadata": {
    "vscode": {
     "languageId": "ruby"
    }
   },
   "outputs": [],
   "source": [
    "# # Show the green ratio enriched for each \n",
    "# block_unit.sort_values(by='green_ratio_enrich', ascending=True)\n",
    "# block_unit"
   ]
  },
  {
   "cell_type": "markdown",
   "id": "fb52f603",
   "metadata": {},
   "source": [
    "Calculate the Gap"
   ]
  },
  {
   "cell_type": "code",
   "execution_count": 18,
   "id": "9e6f1743",
   "metadata": {},
   "outputs": [],
   "source": [
    "# # Calculate the ratio gap for each block unit\n",
    "# block_unit['green_ratio_gap'] = block_unit['green_ratio_enrich'] - block_unit['green_ratio']"
   ]
  },
  {
   "cell_type": "code",
   "execution_count": 19,
   "id": "25bb1eb7",
   "metadata": {},
   "outputs": [],
   "source": [
    "# # Show the block unit with the largest green ratio gap\n",
    "# block_unit.sort_values(by='green_ratio_gap', ascending=True)\n",
    "# block_unit"
   ]
  },
  {
   "cell_type": "code",
   "execution_count": 20,
   "id": "3f63dda8",
   "metadata": {},
   "outputs": [],
   "source": [
    "# # Count the number of block unit where the green ratio gap is not zero\n",
    "# gap_nonzero_count = (block_unit['green_ratio_gap'] != 0).sum()\n",
    "# print(\"Number of kelurahan where the green ratio gap is not zero:\", gap_nonzero_count)"
   ]
  },
  {
   "cell_type": "code",
   "execution_count": 21,
   "id": "c22a2488",
   "metadata": {},
   "outputs": [],
   "source": [
    "# # Show the block unit with the green ratio gap\n",
    "# block_unit[block_unit['green_ratio_gap'] != 0].sort_values(by='green_ratio_gap', ascending=True)"
   ]
  },
  {
   "cell_type": "markdown",
   "id": "72b3199b",
   "metadata": {},
   "source": [
    "## Block Shape & Layout"
   ]
  },
  {
   "cell_type": "markdown",
   "id": "baa91425",
   "metadata": {},
   "source": [
    "### Load Building Footprint"
   ]
  },
  {
   "cell_type": "code",
   "execution_count": 22,
   "id": "6cd89e9e",
   "metadata": {},
   "outputs": [],
   "source": [
    "import pandas as pd\n",
    "import geopandas as gpd\n",
    "import momepy\n",
    "import numpy as np\n",
    "from shapely.geometry import Polygon\n",
    "from sklearn.preprocessing import StandardScaler\n",
    "from sklearn.cluster import KMeans"
   ]
  },
  {
   "cell_type": "code",
   "execution_count": 23,
   "id": "e4d12af2",
   "metadata": {},
   "outputs": [],
   "source": [
    "# Load residential area shapefile\n",
    "residential_shp_path = r\"D:\\2. WAHIDIL\\Careers\\Sinking City\\[R2402] British Academy - Empowering Resilience In a Sinking City\\2. Data\\1. Big Data\\Proportion of Residential Area (Source_ OSM, GSV)\\residential_area\\residential_area_tanahabang.shp\"\n",
    "residential_gdf = gpd.read_file(residential_shp_path)"
   ]
  },
  {
   "cell_type": "code",
   "execution_count": 24,
   "id": "e4237102",
   "metadata": {},
   "outputs": [
    {
     "data": {
      "text/html": [
       "<div>\n",
       "<style scoped>\n",
       "    .dataframe tbody tr th:only-of-type {\n",
       "        vertical-align: middle;\n",
       "    }\n",
       "\n",
       "    .dataframe tbody tr th {\n",
       "        vertical-align: top;\n",
       "    }\n",
       "\n",
       "    .dataframe thead th {\n",
       "        text-align: right;\n",
       "    }\n",
       "</style>\n",
       "<table border=\"1\" class=\"dataframe\">\n",
       "  <thead>\n",
       "    <tr style=\"text-align: right;\">\n",
       "      <th></th>\n",
       "      <th>id</th>\n",
       "      <th>osmid</th>\n",
       "      <th>class</th>\n",
       "      <th>type</th>\n",
       "      <th>name</th>\n",
       "      <th>area</th>\n",
       "      <th>geometry</th>\n",
       "    </tr>\n",
       "  </thead>\n",
       "  <tbody>\n",
       "    <tr>\n",
       "      <th>0</th>\n",
       "      <td>1037788.0</td>\n",
       "      <td>1.214084e+09</td>\n",
       "      <td>None</td>\n",
       "      <td>None</td>\n",
       "      <td>None</td>\n",
       "      <td>276.851170</td>\n",
       "      <td>POLYGON ((106.81016 -6.22117, 106.81015 -6.221...</td>\n",
       "    </tr>\n",
       "    <tr>\n",
       "      <th>1</th>\n",
       "      <td>1037789.0</td>\n",
       "      <td>1.214084e+09</td>\n",
       "      <td>None</td>\n",
       "      <td>None</td>\n",
       "      <td>None</td>\n",
       "      <td>381.995700</td>\n",
       "      <td>POLYGON ((106.80555 -6.22438, 106.80547 -6.224...</td>\n",
       "    </tr>\n",
       "    <tr>\n",
       "      <th>2</th>\n",
       "      <td>1037790.0</td>\n",
       "      <td>1.214084e+09</td>\n",
       "      <td>None</td>\n",
       "      <td>None</td>\n",
       "      <td>None</td>\n",
       "      <td>271.892614</td>\n",
       "      <td>POLYGON ((106.80108 -6.22778, 106.80083 -6.227...</td>\n",
       "    </tr>\n",
       "    <tr>\n",
       "      <th>3</th>\n",
       "      <td>1052411.0</td>\n",
       "      <td>4.935797e+08</td>\n",
       "      <td>None</td>\n",
       "      <td>None</td>\n",
       "      <td>None</td>\n",
       "      <td>52.675873</td>\n",
       "      <td>POLYGON ((106.79411 -6.21191, 106.79409 -6.211...</td>\n",
       "    </tr>\n",
       "    <tr>\n",
       "      <th>4</th>\n",
       "      <td>1598889.0</td>\n",
       "      <td>2.877991e+07</td>\n",
       "      <td>None</td>\n",
       "      <td>government_office</td>\n",
       "      <td>PAM Jaya DKI</td>\n",
       "      <td>2243.225783</td>\n",
       "      <td>POLYGON ((106.80733 -6.20369, 106.8076 -6.2034...</td>\n",
       "    </tr>\n",
       "    <tr>\n",
       "      <th>...</th>\n",
       "      <td>...</td>\n",
       "      <td>...</td>\n",
       "      <td>...</td>\n",
       "      <td>...</td>\n",
       "      <td>...</td>\n",
       "      <td>...</td>\n",
       "      <td>...</td>\n",
       "    </tr>\n",
       "    <tr>\n",
       "      <th>16378</th>\n",
       "      <td>1651116.0</td>\n",
       "      <td>1.047837e+09</td>\n",
       "      <td>None</td>\n",
       "      <td>None</td>\n",
       "      <td>None</td>\n",
       "      <td>64.396939</td>\n",
       "      <td>POLYGON ((106.81334 -6.18356, 106.81338 -6.183...</td>\n",
       "    </tr>\n",
       "    <tr>\n",
       "      <th>16379</th>\n",
       "      <td>1651117.0</td>\n",
       "      <td>1.047837e+09</td>\n",
       "      <td>None</td>\n",
       "      <td>None</td>\n",
       "      <td>None</td>\n",
       "      <td>37.098235</td>\n",
       "      <td>POLYGON ((106.81343 -6.18363, 106.81346 -6.183...</td>\n",
       "    </tr>\n",
       "    <tr>\n",
       "      <th>16380</th>\n",
       "      <td>1651118.0</td>\n",
       "      <td>1.047837e+09</td>\n",
       "      <td>None</td>\n",
       "      <td>None</td>\n",
       "      <td>None</td>\n",
       "      <td>99.026614</td>\n",
       "      <td>POLYGON ((106.81328 -6.18323, 106.81332 -6.183...</td>\n",
       "    </tr>\n",
       "    <tr>\n",
       "      <th>16381</th>\n",
       "      <td>1651119.0</td>\n",
       "      <td>1.047837e+09</td>\n",
       "      <td>None</td>\n",
       "      <td>None</td>\n",
       "      <td>None</td>\n",
       "      <td>123.127337</td>\n",
       "      <td>POLYGON ((106.81323 -6.18324, 106.81326 -6.183...</td>\n",
       "    </tr>\n",
       "    <tr>\n",
       "      <th>16382</th>\n",
       "      <td>1651218.0</td>\n",
       "      <td>7.296736e+06</td>\n",
       "      <td>None</td>\n",
       "      <td>school</td>\n",
       "      <td>None</td>\n",
       "      <td>2950.284634</td>\n",
       "      <td>MULTIPOLYGON (((106.81758 -6.18376, 106.81768 ...</td>\n",
       "    </tr>\n",
       "  </tbody>\n",
       "</table>\n",
       "<p>16383 rows × 7 columns</p>\n",
       "</div>"
      ],
      "text/plain": [
       "              id         osmid class               type          name  \\\n",
       "0      1037788.0  1.214084e+09  None               None          None   \n",
       "1      1037789.0  1.214084e+09  None               None          None   \n",
       "2      1037790.0  1.214084e+09  None               None          None   \n",
       "3      1052411.0  4.935797e+08  None               None          None   \n",
       "4      1598889.0  2.877991e+07  None  government_office  PAM Jaya DKI   \n",
       "...          ...           ...   ...                ...           ...   \n",
       "16378  1651116.0  1.047837e+09  None               None          None   \n",
       "16379  1651117.0  1.047837e+09  None               None          None   \n",
       "16380  1651118.0  1.047837e+09  None               None          None   \n",
       "16381  1651119.0  1.047837e+09  None               None          None   \n",
       "16382  1651218.0  7.296736e+06  None             school          None   \n",
       "\n",
       "              area                                           geometry  \n",
       "0       276.851170  POLYGON ((106.81016 -6.22117, 106.81015 -6.221...  \n",
       "1       381.995700  POLYGON ((106.80555 -6.22438, 106.80547 -6.224...  \n",
       "2       271.892614  POLYGON ((106.80108 -6.22778, 106.80083 -6.227...  \n",
       "3        52.675873  POLYGON ((106.79411 -6.21191, 106.79409 -6.211...  \n",
       "4      2243.225783  POLYGON ((106.80733 -6.20369, 106.8076 -6.2034...  \n",
       "...            ...                                                ...  \n",
       "16378    64.396939  POLYGON ((106.81334 -6.18356, 106.81338 -6.183...  \n",
       "16379    37.098235  POLYGON ((106.81343 -6.18363, 106.81346 -6.183...  \n",
       "16380    99.026614  POLYGON ((106.81328 -6.18323, 106.81332 -6.183...  \n",
       "16381   123.127337  POLYGON ((106.81323 -6.18324, 106.81326 -6.183...  \n",
       "16382  2950.284634  MULTIPOLYGON (((106.81758 -6.18376, 106.81768 ...  \n",
       "\n",
       "[16383 rows x 7 columns]"
      ]
     },
     "execution_count": 24,
     "metadata": {},
     "output_type": "execute_result"
    }
   ],
   "source": [
    "# Reorder columns for clarity\n",
    "residential_gdf = residential_gdf[['id', 'osmid', 'class', 'type', 'name', 'area', 'geometry']]\n",
    "residential_gdf"
   ]
  },
  {
   "cell_type": "code",
   "execution_count": 25,
   "id": "f4d2c104",
   "metadata": {},
   "outputs": [
    {
     "name": "stdout",
     "output_type": "stream",
     "text": [
      "<class 'geopandas.geodataframe.GeoDataFrame'>\n",
      "RangeIndex: 16383 entries, 0 to 16382\n",
      "Data columns (total 7 columns):\n",
      " #   Column    Non-Null Count  Dtype   \n",
      "---  ------    --------------  -----   \n",
      " 0   id        16383 non-null  float64 \n",
      " 1   osmid     16383 non-null  float64 \n",
      " 2   class     0 non-null      object  \n",
      " 3   type      592 non-null    object  \n",
      " 4   name      604 non-null    object  \n",
      " 5   area      16383 non-null  float64 \n",
      " 6   geometry  16383 non-null  geometry\n",
      "dtypes: float64(3), geometry(1), object(3)\n",
      "memory usage: 896.1+ KB\n"
     ]
    }
   ],
   "source": [
    "residential_gdf.info()"
   ]
  },
  {
   "cell_type": "code",
   "execution_count": 26,
   "id": "bedeec2a",
   "metadata": {},
   "outputs": [
    {
     "name": "stdout",
     "output_type": "stream",
     "text": [
      "Block Unit GeoDataFrame CRS: EPSG:4326\n",
      "Residential GeoDataFrame CRS: EPSG:4326\n"
     ]
    }
   ],
   "source": [
    "# Check the CRS\n",
    "print(\"Block Unit GeoDataFrame CRS:\", block_unit.crs)\n",
    "print(\"Residential GeoDataFrame CRS:\", residential_gdf.crs)"
   ]
  },
  {
   "cell_type": "code",
   "execution_count": 27,
   "id": "2670cd24",
   "metadata": {},
   "outputs": [],
   "source": [
    "# Convert to Projected CRS (UTM 48S)\n",
    "block_unit = block_unit.to_crs(epsg=32748)  # Convert to UTM Zone 48S\n",
    "residential_gdf = residential_gdf.to_crs(epsg=32748)  # Convert to UTM Zone 48S"
   ]
  },
  {
   "cell_type": "code",
   "execution_count": 28,
   "id": "dd48401e",
   "metadata": {},
   "outputs": [
    {
     "name": "stdout",
     "output_type": "stream",
     "text": [
      "CRS match: True\n"
     ]
    }
   ],
   "source": [
    "# Check the CRS\n",
    "print(\"CRS match:\", block_unit.crs == residential_gdf.crs)"
   ]
  },
  {
   "cell_type": "markdown",
   "id": "2668253a",
   "metadata": {},
   "source": [
    "### Spatial Join"
   ]
  },
  {
   "cell_type": "code",
   "execution_count": 29,
   "id": "059204db",
   "metadata": {},
   "outputs": [],
   "source": [
    "# # Assign kelurahan to residential areas using spatial join\n",
    "# # Step 1: Spatial join (get all overlaps)\n",
    "# joined = gpd.sjoin(residential_gdf, kelurahan_gdf, how='left', predicate='intersects')\n",
    "\n",
    "# # Step 2: Calculate intersection area for each pair\n",
    "# joined['intersection_area'] = joined.apply(\n",
    "#     lambda row: row['geometry'].intersection(kelurahan_gdf.loc[row['index_right'], 'geometry']).area\n",
    "#     if row['index_right'] is not None else 0, axis=1\n",
    "# )\n",
    "\n",
    "# # Step 3: For each residential polygon, keep only the kelurahan with the largest intersection\n",
    "# majority = joined.loc[joined.groupby('index').intersection_area.idxmax()]\n",
    "\n",
    "# # Step 4: Assign the kelurahan info back to residential_gdf\n",
    "# residential_gdf['kelurahan_majority'] = majority.set_index('index')['WADMKD']"
   ]
  },
  {
   "cell_type": "code",
   "execution_count": 30,
   "id": "660b7b31",
   "metadata": {},
   "outputs": [
    {
     "data": {
      "text/html": [
       "<div>\n",
       "<style scoped>\n",
       "    .dataframe tbody tr th:only-of-type {\n",
       "        vertical-align: middle;\n",
       "    }\n",
       "\n",
       "    .dataframe tbody tr th {\n",
       "        vertical-align: top;\n",
       "    }\n",
       "\n",
       "    .dataframe thead th {\n",
       "        text-align: right;\n",
       "    }\n",
       "</style>\n",
       "<table border=\"1\" class=\"dataframe\">\n",
       "  <thead>\n",
       "    <tr style=\"text-align: right;\">\n",
       "      <th></th>\n",
       "      <th>id</th>\n",
       "      <th>osmid</th>\n",
       "      <th>class</th>\n",
       "      <th>type</th>\n",
       "      <th>name</th>\n",
       "      <th>area</th>\n",
       "      <th>geometry</th>\n",
       "      <th>block</th>\n",
       "    </tr>\n",
       "  </thead>\n",
       "  <tbody>\n",
       "    <tr>\n",
       "      <th>0</th>\n",
       "      <td>1037788.0</td>\n",
       "      <td>1.214084e+09</td>\n",
       "      <td>None</td>\n",
       "      <td>None</td>\n",
       "      <td>None</td>\n",
       "      <td>276.851170</td>\n",
       "      <td>POLYGON ((700279.841 9312003.427, 700278.529 9...</td>\n",
       "      <td>GELORA RW 001</td>\n",
       "    </tr>\n",
       "    <tr>\n",
       "      <th>1</th>\n",
       "      <td>1037789.0</td>\n",
       "      <td>1.214084e+09</td>\n",
       "      <td>None</td>\n",
       "      <td>None</td>\n",
       "      <td>None</td>\n",
       "      <td>381.995700</td>\n",
       "      <td>POLYGON ((699768.724 9311650.07, 699759.806 93...</td>\n",
       "      <td>GELORA RW 001</td>\n",
       "    </tr>\n",
       "    <tr>\n",
       "      <th>2</th>\n",
       "      <td>1037790.0</td>\n",
       "      <td>1.214084e+09</td>\n",
       "      <td>None</td>\n",
       "      <td>None</td>\n",
       "      <td>None</td>\n",
       "      <td>271.892614</td>\n",
       "      <td>POLYGON ((699272.653 9311276.664, 699244.537 9...</td>\n",
       "      <td>GELORA RW 001</td>\n",
       "    </tr>\n",
       "    <tr>\n",
       "      <th>3</th>\n",
       "      <td>1052411.0</td>\n",
       "      <td>4.935797e+08</td>\n",
       "      <td>None</td>\n",
       "      <td>None</td>\n",
       "      <td>None</td>\n",
       "      <td>52.675873</td>\n",
       "      <td>POLYGON ((698506.528 9313033.788, 698505.225 9...</td>\n",
       "      <td>GELORA RW 002</td>\n",
       "    </tr>\n",
       "    <tr>\n",
       "      <th>4</th>\n",
       "      <td>1598889.0</td>\n",
       "      <td>2.877991e+07</td>\n",
       "      <td>None</td>\n",
       "      <td>government_office</td>\n",
       "      <td>PAM Jaya DKI</td>\n",
       "      <td>2243.225783</td>\n",
       "      <td>POLYGON ((699973.126 9313938.631, 700002.93 93...</td>\n",
       "      <td>BENDUNGAN HILIR RW 006</td>\n",
       "    </tr>\n",
       "    <tr>\n",
       "      <th>...</th>\n",
       "      <td>...</td>\n",
       "      <td>...</td>\n",
       "      <td>...</td>\n",
       "      <td>...</td>\n",
       "      <td>...</td>\n",
       "      <td>...</td>\n",
       "      <td>...</td>\n",
       "      <td>...</td>\n",
       "    </tr>\n",
       "    <tr>\n",
       "      <th>16378</th>\n",
       "      <td>1651116.0</td>\n",
       "      <td>1.047837e+09</td>\n",
       "      <td>None</td>\n",
       "      <td>None</td>\n",
       "      <td>None</td>\n",
       "      <td>64.396939</td>\n",
       "      <td>POLYGON ((700646.115 9316162.186, 700650.275 9...</td>\n",
       "      <td>KAMPUNG BALI RW 003</td>\n",
       "    </tr>\n",
       "    <tr>\n",
       "      <th>16379</th>\n",
       "      <td>1651117.0</td>\n",
       "      <td>1.047837e+09</td>\n",
       "      <td>None</td>\n",
       "      <td>None</td>\n",
       "      <td>None</td>\n",
       "      <td>37.098235</td>\n",
       "      <td>POLYGON ((700655.696 9316154.113, 700659.191 9...</td>\n",
       "      <td>KAMPUNG BALI RW 003</td>\n",
       "    </tr>\n",
       "    <tr>\n",
       "      <th>16380</th>\n",
       "      <td>1651118.0</td>\n",
       "      <td>1.047837e+09</td>\n",
       "      <td>None</td>\n",
       "      <td>None</td>\n",
       "      <td>None</td>\n",
       "      <td>99.026614</td>\n",
       "      <td>POLYGON ((700639.145 9316198.63, 700643.785 93...</td>\n",
       "      <td>KAMPUNG BALI RW 003</td>\n",
       "    </tr>\n",
       "    <tr>\n",
       "      <th>16381</th>\n",
       "      <td>1651119.0</td>\n",
       "      <td>1.047837e+09</td>\n",
       "      <td>None</td>\n",
       "      <td>None</td>\n",
       "      <td>None</td>\n",
       "      <td>123.127337</td>\n",
       "      <td>POLYGON ((700633.741 9316197.952, 700637.883 9...</td>\n",
       "      <td>KAMPUNG BALI RW 003</td>\n",
       "    </tr>\n",
       "    <tr>\n",
       "      <th>16382</th>\n",
       "      <td>1651218.0</td>\n",
       "      <td>7.296736e+06</td>\n",
       "      <td>None</td>\n",
       "      <td>school</td>\n",
       "      <td>None</td>\n",
       "      <td>2950.284634</td>\n",
       "      <td>MULTIPOLYGON (((701115.185 9316138.576, 701126...</td>\n",
       "      <td>KAMPUNG BALI RW 008</td>\n",
       "    </tr>\n",
       "  </tbody>\n",
       "</table>\n",
       "<p>16383 rows × 8 columns</p>\n",
       "</div>"
      ],
      "text/plain": [
       "              id         osmid class               type          name  \\\n",
       "0      1037788.0  1.214084e+09  None               None          None   \n",
       "1      1037789.0  1.214084e+09  None               None          None   \n",
       "2      1037790.0  1.214084e+09  None               None          None   \n",
       "3      1052411.0  4.935797e+08  None               None          None   \n",
       "4      1598889.0  2.877991e+07  None  government_office  PAM Jaya DKI   \n",
       "...          ...           ...   ...                ...           ...   \n",
       "16378  1651116.0  1.047837e+09  None               None          None   \n",
       "16379  1651117.0  1.047837e+09  None               None          None   \n",
       "16380  1651118.0  1.047837e+09  None               None          None   \n",
       "16381  1651119.0  1.047837e+09  None               None          None   \n",
       "16382  1651218.0  7.296736e+06  None             school          None   \n",
       "\n",
       "              area                                           geometry  \\\n",
       "0       276.851170  POLYGON ((700279.841 9312003.427, 700278.529 9...   \n",
       "1       381.995700  POLYGON ((699768.724 9311650.07, 699759.806 93...   \n",
       "2       271.892614  POLYGON ((699272.653 9311276.664, 699244.537 9...   \n",
       "3        52.675873  POLYGON ((698506.528 9313033.788, 698505.225 9...   \n",
       "4      2243.225783  POLYGON ((699973.126 9313938.631, 700002.93 93...   \n",
       "...            ...                                                ...   \n",
       "16378    64.396939  POLYGON ((700646.115 9316162.186, 700650.275 9...   \n",
       "16379    37.098235  POLYGON ((700655.696 9316154.113, 700659.191 9...   \n",
       "16380    99.026614  POLYGON ((700639.145 9316198.63, 700643.785 93...   \n",
       "16381   123.127337  POLYGON ((700633.741 9316197.952, 700637.883 9...   \n",
       "16382  2950.284634  MULTIPOLYGON (((701115.185 9316138.576, 701126...   \n",
       "\n",
       "                        block  \n",
       "0               GELORA RW 001  \n",
       "1               GELORA RW 001  \n",
       "2               GELORA RW 001  \n",
       "3               GELORA RW 002  \n",
       "4      BENDUNGAN HILIR RW 006  \n",
       "...                       ...  \n",
       "16378     KAMPUNG BALI RW 003  \n",
       "16379     KAMPUNG BALI RW 003  \n",
       "16380     KAMPUNG BALI RW 003  \n",
       "16381     KAMPUNG BALI RW 003  \n",
       "16382     KAMPUNG BALI RW 008  \n",
       "\n",
       "[16383 rows x 8 columns]"
      ]
     },
     "execution_count": 30,
     "metadata": {},
     "output_type": "execute_result"
    }
   ],
   "source": [
    "# Assign block unit to residential areas using spatial join\n",
    "residential_gdf['block'] = gpd.sjoin(residential_gdf, block_unit, how='left', predicate='within')['block']\n",
    "# Inspect the residential area GeoDataFrame\n",
    "residential_gdf"
   ]
  },
  {
   "cell_type": "code",
   "execution_count": 31,
   "id": "77933875",
   "metadata": {},
   "outputs": [
    {
     "name": "stdout",
     "output_type": "stream",
     "text": [
      "<class 'geopandas.geodataframe.GeoDataFrame'>\n",
      "RangeIndex: 16383 entries, 0 to 16382\n",
      "Data columns (total 8 columns):\n",
      " #   Column    Non-Null Count  Dtype   \n",
      "---  ------    --------------  -----   \n",
      " 0   id        16383 non-null  float64 \n",
      " 1   osmid     16383 non-null  float64 \n",
      " 2   class     0 non-null      object  \n",
      " 3   type      592 non-null    object  \n",
      " 4   name      604 non-null    object  \n",
      " 5   area      16383 non-null  float64 \n",
      " 6   geometry  16383 non-null  geometry\n",
      " 7   block     15825 non-null  object  \n",
      "dtypes: float64(3), geometry(1), object(4)\n",
      "memory usage: 1.0+ MB\n"
     ]
    }
   ],
   "source": [
    "residential_gdf.info()"
   ]
  },
  {
   "cell_type": "markdown",
   "id": "19d0baaa",
   "metadata": {},
   "source": [
    "Inspect"
   ]
  },
  {
   "cell_type": "code",
   "execution_count": 32,
   "id": "991ab3f2",
   "metadata": {},
   "outputs": [
    {
     "name": "stdout",
     "output_type": "stream",
     "text": [
      "block\n",
      "PETAMBURAN RW 003         661\n",
      "KARET TENGSIN RW 007      616\n",
      "KEBON MELATI RW 017       611\n",
      "BENDUNGAN HILIR RW 004    593\n",
      "BENDUNGAN HILIR RW 003    543\n",
      "                         ... \n",
      "PETAMBURAN RW 011          18\n",
      "KAMPUNG BALI RW 002        13\n",
      "KEBON KACANG RW 010         7\n",
      "BENDUNGAN HILIR RW 009      6\n",
      "PETAMBURAN RW 010           3\n",
      "Name: count, Length: 64, dtype: int64\n"
     ]
    }
   ],
   "source": [
    "# Check for building blocks \n",
    "print(residential_gdf['block'].value_counts())"
   ]
  },
  {
   "cell_type": "code",
   "execution_count": 33,
   "id": "49fc10e4",
   "metadata": {},
   "outputs": [
    {
     "name": "stdout",
     "output_type": "stream",
     "text": [
      "True False\n"
     ]
    }
   ],
   "source": [
    "# Check geometry validity\n",
    "print(residential_gdf.is_valid.all(), block_unit.is_valid.all())"
   ]
  },
  {
   "cell_type": "code",
   "execution_count": 34,
   "id": "7b4bd42d",
   "metadata": {},
   "outputs": [
    {
     "name": "stdout",
     "output_type": "stream",
     "text": [
      "True\n"
     ]
    }
   ],
   "source": [
    "# Fix invalid geometries in block_unit\n",
    "block_unit[\"geometry\"] = block_unit[\"geometry\"].buffer(0)\n",
    "print(block_unit.is_valid.all())  # Should now be True"
   ]
  },
  {
   "cell_type": "code",
   "execution_count": 35,
   "id": "dd91d064",
   "metadata": {},
   "outputs": [
    {
     "name": "stdout",
     "output_type": "stream",
     "text": [
      "Total Non-null blocks: 15825\n",
      "Total null blocks: 558\n"
     ]
    }
   ],
   "source": [
    "# Check Non-null blocks in residential_gdf\n",
    "print(\"Total Non-null blocks:\", residential_gdf['block'].notnull().sum())\n",
    "print(\"Total null blocks:\", residential_gdf['block'].isnull().sum())"
   ]
  },
  {
   "cell_type": "code",
   "execution_count": 36,
   "id": "597c4f27",
   "metadata": {},
   "outputs": [
    {
     "name": "stdout",
     "output_type": "stream",
     "text": [
      "Total null blocks: 0\n"
     ]
    }
   ],
   "source": [
    "# Remove rows in residential_gdf where 'block' is null\n",
    "residential_gdf = residential_gdf[residential_gdf['block'].notnull()].copy()\n",
    "print(\"Total null blocks:\", residential_gdf['block'].isnull().sum())"
   ]
  },
  {
   "cell_type": "markdown",
   "id": "b74aa270",
   "metadata": {},
   "source": [
    "### Building Shape 1"
   ]
  },
  {
   "cell_type": "code",
   "execution_count": null,
   "id": "f24c453e",
   "metadata": {},
   "outputs": [],
   "source": [
    "# Compute building metrics per block\n",
    "def compute_block_metrics(buildings, block):\n",
    "    if buildings.empty:\n",
    "        return {\n",
    "            \"building_count\": 0,\n",
    "            \"coverage_ratio\": 0,\n",
    "            \"mean_spacing\": 0,\n",
    "            \"orientation_variance\": 0,\n",
    "            \"compactness\": 0\n",
    "        }\n",
    "\n",
    "    # Coverage ratio\n",
    "    building_area = buildings.area.sum()\n",
    "    coverage_ratio = building_area / block.geometry.area\n",
    "\n",
    "    # Spacing (nearest neighbour)\n",
    "    buildings = buildings.copy()\n",
    "    buildings[\"centroid\"] = buildings.centroid\n",
    "    centroids = np.array(list(buildings[\"centroid\"].apply(lambda x: (x.x, x.y))))\n",
    "    from sklearn.neighbors import NearestNeighbors\n",
    "    nn = NearestNeighbors(n_neighbors=2).fit(centroids)\n",
    "    dists, _ = nn.kneighbors(centroids)\n",
    "    mean_spacing = np.mean(dists[:, 1])\n",
    "\n",
    "    # Orientation variance\n",
    "    oriented = momepy.Orientation(buildings, verbose=False)\n",
    "    orientation_variance = np.var(oriented.series)\n",
    "\n",
    "    # Compactness\n",
    "    compactness = (4 * np.pi * block.geometry.area) / (block.geometry.length ** 2)\n",
    "\n",
    "    return {\n",
    "        \"building_count\": len(buildings),\n",
    "        \"coverage_ratio\": coverage_ratio,\n",
    "        \"mean_spacing\": mean_spacing,\n",
    "        \"orientation_variance\": orientation_variance,\n",
    "        \"compactness\": compactness\n",
    "    }\n",
    "\n",
    "# Use the residential_gdf and rw_gdf\n",
    "gdf_blocks = block_unit  # Each RW as a block\n",
    "gdf_buildings = residential_gdf  # Each residential polygon as a building\n",
    "\n",
    "# Make sure 'block' column exists in residential_gdf (already assigned by spatial join)\n",
    "metrics = []\n",
    "for idx, block in gdf_blocks.iterrows():\n",
    "    blds = gdf_buildings[gdf_buildings[\"block\"] == block[\"block\"]]\n",
    "    m = compute_block_metrics(blds.copy(), block)\n",
    "    metrics.append(m)\n",
    "\n",
    "# Convert to DataFrame and join\n",
    "df_metrics = pd.DataFrame(metrics)\n",
    "df_blocks = gdf_blocks.reset_index(drop=True).join(df_metrics)\n",
    "\n",
    "# Normalize features\n",
    "features = [\"coverage_ratio\", \"mean_spacing\", \"orientation_variance\", \"compactness\"]\n",
    "scaler = StandardScaler()\n",
    "X = scaler.fit_transform(df_blocks[features])\n",
    "\n",
    "# Clustering (e.g., 4 clusters for Hayashi's types)\n",
    "kmeans = KMeans(n_clusters=4, random_state=0).fit(X)\n",
    "df_blocks[\"residential_type\"] = kmeans.labels_\n",
    "\n",
    "# Save to shapefile\n",
    "# df_blocks.to_file(\"residential_classification.shp\")"
   ]
  },
  {
   "cell_type": "code",
   "execution_count": null,
   "id": "1ce6f4d0",
   "metadata": {},
   "outputs": [],
   "source": [
    "df_blocks"
   ]
  },
  {
   "cell_type": "markdown",
   "id": "d78f1b6b",
   "metadata": {},
   "source": [
    "### Building Shape 2"
   ]
  },
  {
   "cell_type": "code",
   "execution_count": null,
   "id": "813e5dcb",
   "metadata": {},
   "outputs": [],
   "source": [
    "import geopandas as gpd\n",
    "import numpy as np\n",
    "from shapely.geometry import MultiPolygon\n",
    "from scipy.spatial import distance_matrix\n",
    "from shapely.ops import cascaded_union"
   ]
  },
  {
   "cell_type": "code",
   "execution_count": null,
   "id": "792eaa9c",
   "metadata": {
    "vscode": {
     "languageId": "powershell"
    }
   },
   "outputs": [],
   "source": [
    "# Step 1: Group buildings by block (optional, if you already have block clustering)\n",
    "# For now, treat all buildings as one block\n",
    "buildings = block_unit.copy()\n",
    "block_geom = cascaded_union(buildings.geometry)\n",
    "block_gdf = gpd.GeoDataFrame(geometry=[block_geom], crs=buildings.crs)"
   ]
  },
  {
   "cell_type": "code",
   "execution_count": null,
   "id": "ddd9fc6a",
   "metadata": {
    "vscode": {
     "languageId": "powershell"
    }
   },
   "outputs": [],
   "source": [
    "# Step 2: Calculate layout metrics\n",
    "# a) Convex hull compactness\n",
    "convex_hull = block_geom.convex_hull\n",
    "compactness = block_geom.area / convex_hull.area\n",
    "\n",
    "# b) Mean building area\n",
    "mean_area = buildings.geometry.area.mean()\n",
    "\n",
    "# c) Nearest neighbor distance (NND)\n",
    "centroids = np.array([[geom.centroid.x, geom.centroid.y] for geom in buildings.geometry])\n",
    "dist_matrix = distance_matrix(centroids, centroids)\n",
    "np.fill_diagonal(dist_matrix, np.inf)\n",
    "mean_nnd = dist_matrix.min(axis=1).mean()\n",
    "\n",
    "# d) Orientation variance (angles of building major axis)\n",
    "def get_orientation(poly):\n",
    "    min_rect = poly.minimum_rotated_rectangle\n",
    "    coords = list(min_rect.exterior.coords)\n",
    "    dx = coords[1][0] - coords[0][0]\n",
    "    dy = coords[1][1] - coords[0][1]\n",
    "    angle = np.arctan2(dy, dx)\n",
    "    return np.degrees(angle) % 180  # Normalise angle\n",
    "\n",
    "orientations = [get_orientation(geom) for geom in buildings.geometry]\n",
    "orientation_var = np.var(orientations)"
   ]
  },
  {
   "cell_type": "code",
   "execution_count": null,
   "id": "aab2c085",
   "metadata": {
    "vscode": {
     "languageId": "powershell"
    }
   },
   "outputs": [],
   "source": [
    "# Output shape/layout metrics\n",
    "metrics = {\n",
    "    \"compactness_ratio\": compactness,\n",
    "    \"mean_building_area_m2\": mean_area,\n",
    "    \"mean_nearest_neighbor_dist_m\": mean_nnd,\n",
    "    \"building_orientation_variance_deg\": orientation_var\n",
    "}\n",
    "\n",
    "print(metrics)"
   ]
  },
  {
   "cell_type": "markdown",
   "id": "7d6c085a",
   "metadata": {},
   "source": [
    "### Calculate Building Shape"
   ]
  },
  {
   "cell_type": "code",
   "execution_count": null,
   "id": "c40e942a",
   "metadata": {
    "vscode": {
     "languageId": "powershell"
    }
   },
   "outputs": [],
   "source": [
    "# Subset the block units for test\n",
    "block_unit = block_unit[block_unit['WADMKK'] == 'JAKARTA PUSAT']\n",
    "block_unit.info()"
   ]
  },
  {
   "cell_type": "code",
   "execution_count": null,
   "id": "0be382e0",
   "metadata": {
    "vscode": {
     "languageId": "powershell"
    }
   },
   "outputs": [],
   "source": [
    "# Group buildings as one block\n",
    "buildings = block_unit.copy()\n",
    "buildings"
   ]
  },
  {
   "cell_type": "code",
   "execution_count": 37,
   "id": "e956ca36",
   "metadata": {},
   "outputs": [],
   "source": [
    "import pandas as pd\n",
    "import geopandas as gpd\n",
    "import numpy as np\n",
    "from shapely.geometry import Polygon\n",
    "from shapely.affinity import rotate\n",
    "from scipy.stats import variation\n",
    "\n",
    "# Helper function to get orientation\n",
    "def get_orientation(polygon):\n",
    "    min_rect = polygon.minimum_rotated_rectangle\n",
    "    coords = list(min_rect.exterior.coords)\n",
    "    edge1 = np.array(coords[1]) - np.array(coords[0])\n",
    "    angle = np.arctan2(edge1[1], edge1[0]) * 180 / np.pi\n",
    "    return angle % 180  # Normalize to 0-180 degrees\n",
    "\n",
    "# Compactness = area / area of minimum bounding rectangle\n",
    "def compactness(polygon):\n",
    "    area = polygon.area\n",
    "    min_rect = polygon.minimum_rotated_rectangle\n",
    "    rect_area = min_rect.area\n",
    "    return area / rect_area if rect_area > 0 else 0\n",
    "\n",
    "# Main feature computation\n",
    "block_features = []\n",
    "\n",
    "for idx, block in block_unit.iterrows():\n",
    "    buildings = residential_gdf[residential_gdf.geometry.within(block.geometry)]\n",
    "    if buildings.empty:\n",
    "        continue\n",
    "\n",
    "    orientations = buildings.geometry.apply(get_orientation)\n",
    "    compactness_vals = buildings.geometry.apply(compactness)\n",
    "\n",
    "    # Inter-building distances (optional)\n",
    "    centroids = buildings.geometry.centroid\n",
    "    dists = centroids.apply(lambda x: centroids.distance(x).mean())\n",
    "\n",
    "    # Block shape index: perimeter² / (4π × area)\n",
    "    shape_index = block.geometry.length**2 / (4 * np.pi * block.geometry.area)\n",
    "\n",
    "    block_features.append({\n",
    "        'block': block['block'],  # or other unique identifier\n",
    "        'orientation_var': np.var(orientations),\n",
    "        'compactness_mean': np.mean(compactness_vals),\n",
    "        'inter_building_dist_mean': dists.mean(),\n",
    "        'block_shape_index': shape_index\n",
    "    })\n",
    "\n",
    "building_shape = pd.DataFrame(block_features)"
   ]
  },
  {
   "cell_type": "code",
   "execution_count": 38,
   "id": "16d46b3f",
   "metadata": {},
   "outputs": [
    {
     "data": {
      "application/vnd.microsoft.datawrangler.viewer.v0+json": {
       "columns": [
        {
         "name": "index",
         "rawType": "int64",
         "type": "integer"
        },
        {
         "name": "block",
         "rawType": "object",
         "type": "string"
        },
        {
         "name": "orientation_var",
         "rawType": "float64",
         "type": "float"
        },
        {
         "name": "compactness_mean",
         "rawType": "float64",
         "type": "float"
        },
        {
         "name": "inter_building_dist_mean",
         "rawType": "float64",
         "type": "float"
        },
        {
         "name": "block_shape_index",
         "rawType": "float64",
         "type": "float"
        }
       ],
       "ref": "6d5e73a9-5c6b-44b6-a776-bd22d33df6e4",
       "rows": [
        [
         "0",
         "KARET TENGSIN RW 006",
         "3590.460471921617",
         "0.9935560995193106",
         "199.71056759187562",
         "1.750238664807996"
        ],
        [
         "1",
         "KARET TENGSIN RW 007",
         "3449.7202188442916",
         "0.9956459229629483",
         "155.22719927766735",
         "1.721051892215559"
        ],
        [
         "2",
         "KARET TENGSIN RW 009",
         "4135.562076224994",
         "0.9841194686367388",
         "197.33081823846024",
         "1.728458784002922"
        ],
        [
         "3",
         "KARET TENGSIN RW 011",
         "3680.807257910556",
         "0.9107062970584664",
         "230.07804262019351",
         "2.030727838532831"
        ],
        [
         "4",
         "PETAMBURAN RW 001",
         "2437.4052305417545",
         "0.9914302134702946",
         "107.30449726856332",
         "1.620936205439514"
        ],
        [
         "5",
         "KARET TENGSIN RW 005",
         "3734.893227096239",
         "0.9948105377897105",
         "141.16606998946236",
         "1.7637262394406592"
        ],
        [
         "6",
         "PETAMBURAN RW 002",
         "3203.93055398657",
         "0.9932551683485552",
         "137.84061309490914",
         "2.6148633544501325"
        ],
        [
         "7",
         "PETAMBURAN RW 003",
         "2855.1449063254117",
         "0.9937628974964178",
         "149.02698952850764",
         "2.036474109210123"
        ],
        [
         "8",
         "PETAMBURAN RW 004",
         "3865.3435743586774",
         "0.9947500834489487",
         "142.26210612959542",
         "1.8569535112446718"
        ],
        [
         "9",
         "PETAMBURAN RW 005",
         "3416.930898830588",
         "0.9896746081193761",
         "154.7793821666007",
         "2.3500974266623063"
        ],
        [
         "10",
         "PETAMBURAN RW 006",
         "3145.851095667912",
         "0.9894604205959636",
         "122.1762409895604",
         "2.3849812873744076"
        ],
        [
         "11",
         "PETAMBURAN RW 007",
         "3630.7708933524104",
         "0.9977474142870606",
         "111.87048623290715",
         "5.59955643573574"
        ],
        [
         "12",
         "PETAMBURAN RW 008",
         "4231.969445242687",
         "0.9974930001509654",
         "156.72518624200683",
         "2.544988944623901"
        ],
        [
         "13",
         "PETAMBURAN RW 009",
         "1525.4440344361456",
         "0.9458535008267449",
         "131.09350026292688",
         "2.7440411213552673"
        ],
        [
         "14",
         "PETAMBURAN RW 010",
         "3157.924263193147",
         "0.81918740547446",
         "49.23749511697909",
         "1.7586685079486042"
        ],
        [
         "15",
         "KEBON MELATI RW 002",
         "1976.1660822829851",
         "0.9885327805738088",
         "168.13271168048593",
         "2.2479881767607486"
        ],
        [
         "16",
         "KEBON MELATI RW 003",
         "3272.0238514537427",
         "0.9981461772911245",
         "69.62288092862867",
         "1.6563352061837173"
        ],
        [
         "17",
         "KEBON MELATI RW 004",
         "1410.2860767281759",
         "0.9979259348651258",
         "62.89669791644059",
         "2.010065968325783"
        ],
        [
         "18",
         "KEBON MELATI RW 005",
         "2171.7950805009496",
         "0.9922813412237501",
         "99.103165239951",
         "1.490609492146677"
        ],
        [
         "19",
         "PETAMBURAN RW 011",
         "3105.7701625088994",
         "0.9383980429446184",
         "74.16654348355577",
         "1.302802211283556"
        ],
        [
         "20",
         "KEBON MELATI RW 006",
         "2408.968468818862",
         "0.9979834191507794",
         "111.61919243022376",
         "2.060484833654236"
        ],
        [
         "21",
         "KEBON MELATI RW 007",
         "3592.3060292226737",
         "0.9755958400817082",
         "151.80496948566076",
         "1.6944741167370103"
        ],
        [
         "22",
         "KEBON MELATI RW 009",
         "2617.3268226888663",
         "0.9832521418438691",
         "160.9273584689516",
         "1.4163181270417284"
        ],
        [
         "23",
         "KEBON MELATI RW 012",
         "3165.926339324257",
         "0.9954382273839405",
         "164.39141069353892",
         "1.7279543811208906"
        ],
        [
         "24",
         "KEBON MELATI RW 013",
         "3766.335056570816",
         "0.999277270152883",
         "134.52873251289876",
         "1.5389845129096704"
        ],
        [
         "25",
         "KEBON MELATI RW 014",
         "2776.1448511660033",
         "0.9951565761929541",
         "142.85076017047277",
         "2.122184499224415"
        ],
        [
         "26",
         "KEBON MELATI RW 015",
         "4127.687325091415",
         "0.998748271414084",
         "37.103824627262334",
         "1.287115279973917"
        ],
        [
         "27",
         "KEBON MELATI RW 016",
         "3402.3275585821802",
         "0.9962037897265835",
         "152.99491033274103",
         "4.565670396779066"
        ],
        [
         "28",
         "KEBON MELATI RW 017",
         "3482.614964916683",
         "0.9916611322093889",
         "151.47658253186313",
         "1.5808321420637257"
        ],
        [
         "29",
         "KEBON KACANG RW 001",
         "1977.2168323077865",
         "0.9638984562200182",
         "92.2562852534431",
         "1.5810114711705248"
        ],
        [
         "30",
         "KEBON KACANG RW 002",
         "2700.143340749954",
         "0.9078488985940609",
         "115.56467406744646",
         "1.7555892734657212"
        ],
        [
         "31",
         "KEBON KACANG RW 003",
         "2856.4780855713366",
         "0.9548542434040055",
         "94.42735974339209",
         "1.5595481439671282"
        ],
        [
         "32",
         "KEBON KACANG RW 005",
         "3336.8285817736464",
         "0.9881525490927355",
         "168.48157191986604",
         "2.8199433536502125"
        ],
        [
         "33",
         "KEBON KACANG RW 006",
         "2406.2688426930063",
         "0.9917241891179639",
         "147.8719051138232",
         "1.656878997681456"
        ],
        [
         "34",
         "KEBON KACANG RW 007",
         "3179.5165287246514",
         "0.9864869733651483",
         "147.41442318821015",
         "2.9443080524442085"
        ],
        [
         "35",
         "KEBON KACANG RW 008",
         "2367.006561668707",
         "0.9909555571097877",
         "138.02537946637915",
         "1.8696091521809206"
        ],
        [
         "36",
         "KEBON KACANG RW 004",
         "3007.9635577166387",
         "0.9758274608390104",
         "153.6433172484482",
         "1.4626311608275466"
        ],
        [
         "37",
         "KEBON KACANG RW 009",
         "3353.105686918818",
         "0.9944003483354804",
         "133.19206526292766",
         "1.614125343476582"
        ],
        [
         "38",
         "KEBON KACANG RW 010",
         "4186.2012032655175",
         "0.6886898757975553",
         "73.61370589852187",
         "1.5150988788497513"
        ],
        [
         "39",
         "KEBON KACANG RW 011",
         "2672.4977944715197",
         "0.9996393125259239",
         "69.58329200609857",
         "1.4754135407122462"
        ],
        [
         "40",
         "KAMPUNG BALI RW 001",
         "4370.744143768926",
         "0.9993601108988137",
         "67.63398696202835",
         "1.4671182642242602"
        ],
        [
         "41",
         "KAMPUNG BALI RW 002",
         "2355.4632408803673",
         "0.9815338888024753",
         "93.29909626101244",
         "1.307193273511347"
        ],
        [
         "42",
         "KAMPUNG BALI RW 003",
         "2607.592846971785",
         "0.9873026744589058",
         "170.26566922669164",
         "2.13153624038725"
        ],
        [
         "43",
         "KAMPUNG BALI RW 004",
         "3676.837868835638",
         "0.9944488867308954",
         "104.69077068585207",
         "1.4100308909207768"
        ],
        [
         "44",
         "KAMPUNG BALI RW 005",
         "3039.181890962964",
         "0.9911564572726299",
         "133.9225918440275",
         "2.2948581207057157"
        ],
        [
         "45",
         "KAMPUNG BALI RW 006",
         "3888.565302568692",
         "0.9935782644785899",
         "99.50019946719196",
         "1.4856314338705383"
        ],
        [
         "46",
         "KAMPUNG BALI RW 007",
         "3329.1412356996957",
         "0.9781163706857462",
         "156.33267668798615",
         "1.8041195663262453"
        ],
        [
         "47",
         "KAMPUNG BALI RW 008",
         "3260.9266742180853",
         "0.9884803710001432",
         "132.5352727950824",
         "1.985203673425942"
        ],
        [
         "48",
         "KAMPUNG BALI RW 009",
         "2883.1184330539836",
         "0.9952655643924483",
         "110.60069164331013",
         "1.6941482994656643"
        ],
        [
         "49",
         "KAMPUNG BALI RW 010",
         "2724.9213406142094",
         "0.9851395274195669",
         "133.56478726909418",
         "1.6533236039139954"
        ]
       ],
       "shape": {
        "columns": 5,
        "rows": 64
       }
      },
      "text/html": [
       "<div>\n",
       "<style scoped>\n",
       "    .dataframe tbody tr th:only-of-type {\n",
       "        vertical-align: middle;\n",
       "    }\n",
       "\n",
       "    .dataframe tbody tr th {\n",
       "        vertical-align: top;\n",
       "    }\n",
       "\n",
       "    .dataframe thead th {\n",
       "        text-align: right;\n",
       "    }\n",
       "</style>\n",
       "<table border=\"1\" class=\"dataframe\">\n",
       "  <thead>\n",
       "    <tr style=\"text-align: right;\">\n",
       "      <th></th>\n",
       "      <th>block</th>\n",
       "      <th>orientation_var</th>\n",
       "      <th>compactness_mean</th>\n",
       "      <th>inter_building_dist_mean</th>\n",
       "      <th>block_shape_index</th>\n",
       "    </tr>\n",
       "  </thead>\n",
       "  <tbody>\n",
       "    <tr>\n",
       "      <th>0</th>\n",
       "      <td>KARET TENGSIN RW 006</td>\n",
       "      <td>3590.460472</td>\n",
       "      <td>0.993556</td>\n",
       "      <td>199.710568</td>\n",
       "      <td>1.750239</td>\n",
       "    </tr>\n",
       "    <tr>\n",
       "      <th>1</th>\n",
       "      <td>KARET TENGSIN RW 007</td>\n",
       "      <td>3449.720219</td>\n",
       "      <td>0.995646</td>\n",
       "      <td>155.227199</td>\n",
       "      <td>1.721052</td>\n",
       "    </tr>\n",
       "    <tr>\n",
       "      <th>2</th>\n",
       "      <td>KARET TENGSIN RW 009</td>\n",
       "      <td>4135.562076</td>\n",
       "      <td>0.984119</td>\n",
       "      <td>197.330818</td>\n",
       "      <td>1.728459</td>\n",
       "    </tr>\n",
       "    <tr>\n",
       "      <th>3</th>\n",
       "      <td>KARET TENGSIN RW 011</td>\n",
       "      <td>3680.807258</td>\n",
       "      <td>0.910706</td>\n",
       "      <td>230.078043</td>\n",
       "      <td>2.030728</td>\n",
       "    </tr>\n",
       "    <tr>\n",
       "      <th>4</th>\n",
       "      <td>PETAMBURAN RW 001</td>\n",
       "      <td>2437.405231</td>\n",
       "      <td>0.991430</td>\n",
       "      <td>107.304497</td>\n",
       "      <td>1.620936</td>\n",
       "    </tr>\n",
       "    <tr>\n",
       "      <th>...</th>\n",
       "      <td>...</td>\n",
       "      <td>...</td>\n",
       "      <td>...</td>\n",
       "      <td>...</td>\n",
       "      <td>...</td>\n",
       "    </tr>\n",
       "    <tr>\n",
       "      <th>59</th>\n",
       "      <td>BENDUNGAN HILIR RW 008</td>\n",
       "      <td>1839.306015</td>\n",
       "      <td>0.973128</td>\n",
       "      <td>101.857832</td>\n",
       "      <td>2.162449</td>\n",
       "    </tr>\n",
       "    <tr>\n",
       "      <th>60</th>\n",
       "      <td>BENDUNGAN HILIR RW 009</td>\n",
       "      <td>1444.281833</td>\n",
       "      <td>0.936064</td>\n",
       "      <td>31.674640</td>\n",
       "      <td>1.247414</td>\n",
       "    </tr>\n",
       "    <tr>\n",
       "      <th>61</th>\n",
       "      <td>KARET TENGSIN RW 002</td>\n",
       "      <td>3314.112546</td>\n",
       "      <td>0.983462</td>\n",
       "      <td>147.514043</td>\n",
       "      <td>1.631003</td>\n",
       "    </tr>\n",
       "    <tr>\n",
       "      <th>62</th>\n",
       "      <td>KARET TENGSIN RW 003</td>\n",
       "      <td>3982.867075</td>\n",
       "      <td>0.975545</td>\n",
       "      <td>160.773053</td>\n",
       "      <td>1.727275</td>\n",
       "    </tr>\n",
       "    <tr>\n",
       "      <th>63</th>\n",
       "      <td>KARET TENGSIN RW 004</td>\n",
       "      <td>3399.871502</td>\n",
       "      <td>0.996868</td>\n",
       "      <td>130.066068</td>\n",
       "      <td>1.791496</td>\n",
       "    </tr>\n",
       "  </tbody>\n",
       "</table>\n",
       "<p>64 rows × 5 columns</p>\n",
       "</div>"
      ],
      "text/plain": [
       "                     block  orientation_var  compactness_mean  \\\n",
       "0     KARET TENGSIN RW 006      3590.460472          0.993556   \n",
       "1     KARET TENGSIN RW 007      3449.720219          0.995646   \n",
       "2     KARET TENGSIN RW 009      4135.562076          0.984119   \n",
       "3     KARET TENGSIN RW 011      3680.807258          0.910706   \n",
       "4        PETAMBURAN RW 001      2437.405231          0.991430   \n",
       "..                     ...              ...               ...   \n",
       "59  BENDUNGAN HILIR RW 008      1839.306015          0.973128   \n",
       "60  BENDUNGAN HILIR RW 009      1444.281833          0.936064   \n",
       "61    KARET TENGSIN RW 002      3314.112546          0.983462   \n",
       "62    KARET TENGSIN RW 003      3982.867075          0.975545   \n",
       "63    KARET TENGSIN RW 004      3399.871502          0.996868   \n",
       "\n",
       "    inter_building_dist_mean  block_shape_index  \n",
       "0                 199.710568           1.750239  \n",
       "1                 155.227199           1.721052  \n",
       "2                 197.330818           1.728459  \n",
       "3                 230.078043           2.030728  \n",
       "4                 107.304497           1.620936  \n",
       "..                       ...                ...  \n",
       "59                101.857832           2.162449  \n",
       "60                 31.674640           1.247414  \n",
       "61                147.514043           1.631003  \n",
       "62                160.773053           1.727275  \n",
       "63                130.066068           1.791496  \n",
       "\n",
       "[64 rows x 5 columns]"
      ]
     },
     "execution_count": 38,
     "metadata": {},
     "output_type": "execute_result"
    }
   ],
   "source": [
    "# Show the results\n",
    "building_shape"
   ]
  },
  {
   "cell_type": "code",
   "execution_count": 39,
   "id": "2e4f2a17",
   "metadata": {},
   "outputs": [
    {
     "data": {
      "text/html": [
       "<div>\n",
       "<style scoped>\n",
       "    .dataframe tbody tr th:only-of-type {\n",
       "        vertical-align: middle;\n",
       "    }\n",
       "\n",
       "    .dataframe tbody tr th {\n",
       "        vertical-align: top;\n",
       "    }\n",
       "\n",
       "    .dataframe thead th {\n",
       "        text-align: right;\n",
       "    }\n",
       "</style>\n",
       "<table border=\"1\" class=\"dataframe\">\n",
       "  <thead>\n",
       "    <tr style=\"text-align: right;\">\n",
       "      <th></th>\n",
       "      <th>OBJECTID</th>\n",
       "      <th>WADMRW</th>\n",
       "      <th>WADMKD</th>\n",
       "      <th>WADMKC</th>\n",
       "      <th>WADMKK</th>\n",
       "      <th>SHAPE_Area</th>\n",
       "      <th>geometry</th>\n",
       "      <th>block</th>\n",
       "      <th>green_ratio</th>\n",
       "    </tr>\n",
       "  </thead>\n",
       "  <tbody>\n",
       "    <tr>\n",
       "      <th>0</th>\n",
       "      <td>1.0</td>\n",
       "      <td>010</td>\n",
       "      <td>UJUNG MENTENG</td>\n",
       "      <td>CAKUNG</td>\n",
       "      <td>JAKARTA TIMUR</td>\n",
       "      <td>0.000011</td>\n",
       "      <td>POLYGON Z ((717234.747 9315064.711 0, 717236.8...</td>\n",
       "      <td>UJUNG MENTENG RW 010</td>\n",
       "      <td>0.076389</td>\n",
       "    </tr>\n",
       "    <tr>\n",
       "      <th>1</th>\n",
       "      <td>2.0</td>\n",
       "      <td>001</td>\n",
       "      <td>CAKUNG BARAT</td>\n",
       "      <td>CAKUNG</td>\n",
       "      <td>JAKARTA TIMUR</td>\n",
       "      <td>0.000032</td>\n",
       "      <td>POLYGON Z ((714193.657 9315813.449 0, 714190.4...</td>\n",
       "      <td>CAKUNG BARAT RW 001</td>\n",
       "      <td>0.041096</td>\n",
       "    </tr>\n",
       "    <tr>\n",
       "      <th>2</th>\n",
       "      <td>3.0</td>\n",
       "      <td>002</td>\n",
       "      <td>CAKUNG BARAT</td>\n",
       "      <td>CAKUNG</td>\n",
       "      <td>JAKARTA TIMUR</td>\n",
       "      <td>0.000020</td>\n",
       "      <td>POLYGON Z ((714752.06 9316070.865 0, 714732.36...</td>\n",
       "      <td>CAKUNG BARAT RW 002</td>\n",
       "      <td>0.025362</td>\n",
       "    </tr>\n",
       "    <tr>\n",
       "      <th>3</th>\n",
       "      <td>4.0</td>\n",
       "      <td>003</td>\n",
       "      <td>CAKUNG BARAT</td>\n",
       "      <td>CAKUNG</td>\n",
       "      <td>JAKARTA TIMUR</td>\n",
       "      <td>0.000032</td>\n",
       "      <td>POLYGON Z ((714983.763 9315976.812 0, 714984.3...</td>\n",
       "      <td>CAKUNG BARAT RW 003</td>\n",
       "      <td>0.139640</td>\n",
       "    </tr>\n",
       "    <tr>\n",
       "      <th>4</th>\n",
       "      <td>5.0</td>\n",
       "      <td>004</td>\n",
       "      <td>CAKUNG BARAT</td>\n",
       "      <td>CAKUNG</td>\n",
       "      <td>JAKARTA TIMUR</td>\n",
       "      <td>0.000020</td>\n",
       "      <td>POLYGON Z ((714613.472 9316851.095 0, 714731.2...</td>\n",
       "      <td>CAKUNG BARAT RW 004</td>\n",
       "      <td>0.041812</td>\n",
       "    </tr>\n",
       "    <tr>\n",
       "      <th>...</th>\n",
       "      <td>...</td>\n",
       "      <td>...</td>\n",
       "      <td>...</td>\n",
       "      <td>...</td>\n",
       "      <td>...</td>\n",
       "      <td>...</td>\n",
       "      <td>...</td>\n",
       "      <td>...</td>\n",
       "      <td>...</td>\n",
       "    </tr>\n",
       "    <tr>\n",
       "      <th>2728</th>\n",
       "      <td>2753.0</td>\n",
       "      <td>002</td>\n",
       "      <td>CIBUBUR</td>\n",
       "      <td>CIRACAS</td>\n",
       "      <td>JAKARTA TIMUR</td>\n",
       "      <td>0.000027</td>\n",
       "      <td>POLYGON Z ((707119.857 9298199.19 0, 707142.46...</td>\n",
       "      <td>CIBUBUR RW 002</td>\n",
       "      <td>0.021918</td>\n",
       "    </tr>\n",
       "    <tr>\n",
       "      <th>2729</th>\n",
       "      <td>2754.0</td>\n",
       "      <td>003</td>\n",
       "      <td>SETU</td>\n",
       "      <td>CIPAYUNG</td>\n",
       "      <td>JAKARTA TIMUR</td>\n",
       "      <td>0.000053</td>\n",
       "      <td>POLYGON Z ((711871.574 9301702.672 0, 711864.3...</td>\n",
       "      <td>SETU RW 003</td>\n",
       "      <td>0.303694</td>\n",
       "    </tr>\n",
       "    <tr>\n",
       "      <th>2730</th>\n",
       "      <td>2755.0</td>\n",
       "      <td>004</td>\n",
       "      <td>SETU</td>\n",
       "      <td>CIPAYUNG</td>\n",
       "      <td>JAKARTA TIMUR</td>\n",
       "      <td>0.000059</td>\n",
       "      <td>POLYGON Z ((712102.057 9301755.136 0, 712177.2...</td>\n",
       "      <td>SETU RW 004</td>\n",
       "      <td>0.196364</td>\n",
       "    </tr>\n",
       "    <tr>\n",
       "      <th>2731</th>\n",
       "      <td>2756.0</td>\n",
       "      <td>005</td>\n",
       "      <td>SETU</td>\n",
       "      <td>CIPAYUNG</td>\n",
       "      <td>JAKARTA TIMUR</td>\n",
       "      <td>0.000041</td>\n",
       "      <td>POLYGON Z ((711453.945 9302265.976 0, 711497.0...</td>\n",
       "      <td>SETU RW 005</td>\n",
       "      <td>0.158730</td>\n",
       "    </tr>\n",
       "    <tr>\n",
       "      <th>2732</th>\n",
       "      <td>2757.0</td>\n",
       "      <td>006</td>\n",
       "      <td>SETU</td>\n",
       "      <td>CIPAYUNG</td>\n",
       "      <td>JAKARTA TIMUR</td>\n",
       "      <td>0.000006</td>\n",
       "      <td>POLYGON Z ((712541.78 9302643.772 0, 712543.23...</td>\n",
       "      <td>SETU RW 006</td>\n",
       "      <td>0.000000</td>\n",
       "    </tr>\n",
       "  </tbody>\n",
       "</table>\n",
       "<p>2733 rows × 9 columns</p>\n",
       "</div>"
      ],
      "text/plain": [
       "      OBJECTID WADMRW         WADMKD    WADMKC         WADMKK  SHAPE_Area  \\\n",
       "0          1.0    010  UJUNG MENTENG    CAKUNG  JAKARTA TIMUR    0.000011   \n",
       "1          2.0    001   CAKUNG BARAT    CAKUNG  JAKARTA TIMUR    0.000032   \n",
       "2          3.0    002   CAKUNG BARAT    CAKUNG  JAKARTA TIMUR    0.000020   \n",
       "3          4.0    003   CAKUNG BARAT    CAKUNG  JAKARTA TIMUR    0.000032   \n",
       "4          5.0    004   CAKUNG BARAT    CAKUNG  JAKARTA TIMUR    0.000020   \n",
       "...        ...    ...            ...       ...            ...         ...   \n",
       "2728    2753.0    002        CIBUBUR   CIRACAS  JAKARTA TIMUR    0.000027   \n",
       "2729    2754.0    003           SETU  CIPAYUNG  JAKARTA TIMUR    0.000053   \n",
       "2730    2755.0    004           SETU  CIPAYUNG  JAKARTA TIMUR    0.000059   \n",
       "2731    2756.0    005           SETU  CIPAYUNG  JAKARTA TIMUR    0.000041   \n",
       "2732    2757.0    006           SETU  CIPAYUNG  JAKARTA TIMUR    0.000006   \n",
       "\n",
       "                                               geometry                 block  \\\n",
       "0     POLYGON Z ((717234.747 9315064.711 0, 717236.8...  UJUNG MENTENG RW 010   \n",
       "1     POLYGON Z ((714193.657 9315813.449 0, 714190.4...   CAKUNG BARAT RW 001   \n",
       "2     POLYGON Z ((714752.06 9316070.865 0, 714732.36...   CAKUNG BARAT RW 002   \n",
       "3     POLYGON Z ((714983.763 9315976.812 0, 714984.3...   CAKUNG BARAT RW 003   \n",
       "4     POLYGON Z ((714613.472 9316851.095 0, 714731.2...   CAKUNG BARAT RW 004   \n",
       "...                                                 ...                   ...   \n",
       "2728  POLYGON Z ((707119.857 9298199.19 0, 707142.46...        CIBUBUR RW 002   \n",
       "2729  POLYGON Z ((711871.574 9301702.672 0, 711864.3...           SETU RW 003   \n",
       "2730  POLYGON Z ((712102.057 9301755.136 0, 712177.2...           SETU RW 004   \n",
       "2731  POLYGON Z ((711453.945 9302265.976 0, 711497.0...           SETU RW 005   \n",
       "2732  POLYGON Z ((712541.78 9302643.772 0, 712543.23...           SETU RW 006   \n",
       "\n",
       "      green_ratio  \n",
       "0        0.076389  \n",
       "1        0.041096  \n",
       "2        0.025362  \n",
       "3        0.139640  \n",
       "4        0.041812  \n",
       "...           ...  \n",
       "2728     0.021918  \n",
       "2729     0.303694  \n",
       "2730     0.196364  \n",
       "2731     0.158730  \n",
       "2732     0.000000  \n",
       "\n",
       "[2733 rows x 9 columns]"
      ]
     },
     "execution_count": 39,
     "metadata": {},
     "output_type": "execute_result"
    }
   ],
   "source": [
    "block_unit"
   ]
  },
  {
   "cell_type": "code",
   "execution_count": 40,
   "id": "b0ab0063",
   "metadata": {},
   "outputs": [],
   "source": [
    "# Merge building_shape DataFrame with block_unit GeoDataFrame\n",
    "block_unit = block_unit.merge(\n",
    "    building_shape,\n",
    "    # left_on='block',\n",
    "    # right_on='block',\n",
    "    how='right'\n",
    ")\n",
    "\n",
    "# Remove the 'block_unit' column from the merged DataFrame\n",
    "# block_unit = block_unit.drop(columns=['block'])"
   ]
  },
  {
   "cell_type": "code",
   "execution_count": 41,
   "id": "c4a3fd5f",
   "metadata": {},
   "outputs": [
    {
     "data": {
      "text/html": [
       "<div>\n",
       "<style scoped>\n",
       "    .dataframe tbody tr th:only-of-type {\n",
       "        vertical-align: middle;\n",
       "    }\n",
       "\n",
       "    .dataframe tbody tr th {\n",
       "        vertical-align: top;\n",
       "    }\n",
       "\n",
       "    .dataframe thead th {\n",
       "        text-align: right;\n",
       "    }\n",
       "</style>\n",
       "<table border=\"1\" class=\"dataframe\">\n",
       "  <thead>\n",
       "    <tr style=\"text-align: right;\">\n",
       "      <th></th>\n",
       "      <th>OBJECTID</th>\n",
       "      <th>WADMRW</th>\n",
       "      <th>WADMKD</th>\n",
       "      <th>WADMKC</th>\n",
       "      <th>WADMKK</th>\n",
       "      <th>SHAPE_Area</th>\n",
       "      <th>geometry</th>\n",
       "      <th>block</th>\n",
       "      <th>green_ratio</th>\n",
       "      <th>orientation_var</th>\n",
       "      <th>compactness_mean</th>\n",
       "      <th>inter_building_dist_mean</th>\n",
       "      <th>block_shape_index</th>\n",
       "    </tr>\n",
       "  </thead>\n",
       "  <tbody>\n",
       "    <tr>\n",
       "      <th>0</th>\n",
       "      <td>1674.0</td>\n",
       "      <td>006</td>\n",
       "      <td>KARET TENGSIN</td>\n",
       "      <td>TANAH ABANG</td>\n",
       "      <td>JAKARTA PUSAT</td>\n",
       "      <td>0.000023</td>\n",
       "      <td>POLYGON Z ((700974.003 9313841.36 0, 700983.42...</td>\n",
       "      <td>KARET TENGSIN RW 006</td>\n",
       "      <td>0.415902</td>\n",
       "      <td>3590.460472</td>\n",
       "      <td>0.993556</td>\n",
       "      <td>199.710568</td>\n",
       "      <td>1.750239</td>\n",
       "    </tr>\n",
       "    <tr>\n",
       "      <th>1</th>\n",
       "      <td>1675.0</td>\n",
       "      <td>007</td>\n",
       "      <td>KARET TENGSIN</td>\n",
       "      <td>TANAH ABANG</td>\n",
       "      <td>JAKARTA PUSAT</td>\n",
       "      <td>0.000008</td>\n",
       "      <td>POLYGON Z ((700504.182 9313851.429 0, 700506.8...</td>\n",
       "      <td>KARET TENGSIN RW 007</td>\n",
       "      <td>0.000000</td>\n",
       "      <td>3449.720219</td>\n",
       "      <td>0.995646</td>\n",
       "      <td>155.227199</td>\n",
       "      <td>1.721052</td>\n",
       "    </tr>\n",
       "    <tr>\n",
       "      <th>2</th>\n",
       "      <td>1676.0</td>\n",
       "      <td>009</td>\n",
       "      <td>KARET TENGSIN</td>\n",
       "      <td>TANAH ABANG</td>\n",
       "      <td>JAKARTA PUSAT</td>\n",
       "      <td>0.000028</td>\n",
       "      <td>POLYGON Z ((701625.314 9313729.495 0, 701621.5...</td>\n",
       "      <td>KARET TENGSIN RW 009</td>\n",
       "      <td>0.094872</td>\n",
       "      <td>4135.562076</td>\n",
       "      <td>0.984119</td>\n",
       "      <td>197.330818</td>\n",
       "      <td>1.728459</td>\n",
       "    </tr>\n",
       "    <tr>\n",
       "      <th>3</th>\n",
       "      <td>1677.0</td>\n",
       "      <td>011</td>\n",
       "      <td>KARET TENGSIN</td>\n",
       "      <td>TANAH ABANG</td>\n",
       "      <td>JAKARTA PUSAT</td>\n",
       "      <td>0.000026</td>\n",
       "      <td>POLYGON Z ((701457.052 9313704.386 0, 701456.9...</td>\n",
       "      <td>KARET TENGSIN RW 011</td>\n",
       "      <td>0.002825</td>\n",
       "      <td>3680.807258</td>\n",
       "      <td>0.910706</td>\n",
       "      <td>230.078043</td>\n",
       "      <td>2.030728</td>\n",
       "    </tr>\n",
       "    <tr>\n",
       "      <th>4</th>\n",
       "      <td>1678.0</td>\n",
       "      <td>001</td>\n",
       "      <td>PETAMBURAN</td>\n",
       "      <td>TANAH ABANG</td>\n",
       "      <td>JAKARTA PUSAT</td>\n",
       "      <td>0.000006</td>\n",
       "      <td>POLYGON Z ((700306.82 9315576.377 0, 700346.24...</td>\n",
       "      <td>PETAMBURAN RW 001</td>\n",
       "      <td>0.011494</td>\n",
       "      <td>2437.405231</td>\n",
       "      <td>0.991430</td>\n",
       "      <td>107.304497</td>\n",
       "      <td>1.620936</td>\n",
       "    </tr>\n",
       "    <tr>\n",
       "      <th>...</th>\n",
       "      <td>...</td>\n",
       "      <td>...</td>\n",
       "      <td>...</td>\n",
       "      <td>...</td>\n",
       "      <td>...</td>\n",
       "      <td>...</td>\n",
       "      <td>...</td>\n",
       "      <td>...</td>\n",
       "      <td>...</td>\n",
       "      <td>...</td>\n",
       "      <td>...</td>\n",
       "      <td>...</td>\n",
       "      <td>...</td>\n",
       "    </tr>\n",
       "    <tr>\n",
       "      <th>59</th>\n",
       "      <td>2111.0</td>\n",
       "      <td>008</td>\n",
       "      <td>BENDUNGAN HILIR</td>\n",
       "      <td>TANAH ABANG</td>\n",
       "      <td>JAKARTA PUSAT</td>\n",
       "      <td>0.000003</td>\n",
       "      <td>POLYGON Z ((699929.854 9314120.258 0, 699905.1...</td>\n",
       "      <td>BENDUNGAN HILIR RW 008</td>\n",
       "      <td>0.000000</td>\n",
       "      <td>1839.306015</td>\n",
       "      <td>0.973128</td>\n",
       "      <td>101.857832</td>\n",
       "      <td>2.162449</td>\n",
       "    </tr>\n",
       "    <tr>\n",
       "      <th>60</th>\n",
       "      <td>2112.0</td>\n",
       "      <td>009</td>\n",
       "      <td>BENDUNGAN HILIR</td>\n",
       "      <td>TANAH ABANG</td>\n",
       "      <td>JAKARTA PUSAT</td>\n",
       "      <td>0.000001</td>\n",
       "      <td>POLYGON Z ((699905.121 9314096.534 0, 699837.4...</td>\n",
       "      <td>BENDUNGAN HILIR RW 009</td>\n",
       "      <td>0.000000</td>\n",
       "      <td>1444.281833</td>\n",
       "      <td>0.936064</td>\n",
       "      <td>31.674640</td>\n",
       "      <td>1.247414</td>\n",
       "    </tr>\n",
       "    <tr>\n",
       "      <th>61</th>\n",
       "      <td>2113.0</td>\n",
       "      <td>002</td>\n",
       "      <td>KARET TENGSIN</td>\n",
       "      <td>TANAH ABANG</td>\n",
       "      <td>JAKARTA PUSAT</td>\n",
       "      <td>0.000011</td>\n",
       "      <td>POLYGON Z ((701046.749 9313025.221 0, 701058.6...</td>\n",
       "      <td>KARET TENGSIN RW 002</td>\n",
       "      <td>0.147651</td>\n",
       "      <td>3314.112546</td>\n",
       "      <td>0.983462</td>\n",
       "      <td>147.514043</td>\n",
       "      <td>1.631003</td>\n",
       "    </tr>\n",
       "    <tr>\n",
       "      <th>62</th>\n",
       "      <td>2114.0</td>\n",
       "      <td>003</td>\n",
       "      <td>KARET TENGSIN</td>\n",
       "      <td>TANAH ABANG</td>\n",
       "      <td>JAKARTA PUSAT</td>\n",
       "      <td>0.000008</td>\n",
       "      <td>POLYGON Z ((701122.439 9313038.15 0, 701124.57...</td>\n",
       "      <td>KARET TENGSIN RW 003</td>\n",
       "      <td>0.138889</td>\n",
       "      <td>3982.867075</td>\n",
       "      <td>0.975545</td>\n",
       "      <td>160.773053</td>\n",
       "      <td>1.727275</td>\n",
       "    </tr>\n",
       "    <tr>\n",
       "      <th>63</th>\n",
       "      <td>2115.0</td>\n",
       "      <td>004</td>\n",
       "      <td>KARET TENGSIN</td>\n",
       "      <td>TANAH ABANG</td>\n",
       "      <td>JAKARTA PUSAT</td>\n",
       "      <td>0.000008</td>\n",
       "      <td>POLYGON Z ((701110.683 9313384.394 0, 701114.8...</td>\n",
       "      <td>KARET TENGSIN RW 004</td>\n",
       "      <td>0.245455</td>\n",
       "      <td>3399.871502</td>\n",
       "      <td>0.996868</td>\n",
       "      <td>130.066068</td>\n",
       "      <td>1.791496</td>\n",
       "    </tr>\n",
       "  </tbody>\n",
       "</table>\n",
       "<p>64 rows × 13 columns</p>\n",
       "</div>"
      ],
      "text/plain": [
       "    OBJECTID WADMRW           WADMKD       WADMKC         WADMKK  SHAPE_Area  \\\n",
       "0     1674.0    006    KARET TENGSIN  TANAH ABANG  JAKARTA PUSAT    0.000023   \n",
       "1     1675.0    007    KARET TENGSIN  TANAH ABANG  JAKARTA PUSAT    0.000008   \n",
       "2     1676.0    009    KARET TENGSIN  TANAH ABANG  JAKARTA PUSAT    0.000028   \n",
       "3     1677.0    011    KARET TENGSIN  TANAH ABANG  JAKARTA PUSAT    0.000026   \n",
       "4     1678.0    001       PETAMBURAN  TANAH ABANG  JAKARTA PUSAT    0.000006   \n",
       "..       ...    ...              ...          ...            ...         ...   \n",
       "59    2111.0    008  BENDUNGAN HILIR  TANAH ABANG  JAKARTA PUSAT    0.000003   \n",
       "60    2112.0    009  BENDUNGAN HILIR  TANAH ABANG  JAKARTA PUSAT    0.000001   \n",
       "61    2113.0    002    KARET TENGSIN  TANAH ABANG  JAKARTA PUSAT    0.000011   \n",
       "62    2114.0    003    KARET TENGSIN  TANAH ABANG  JAKARTA PUSAT    0.000008   \n",
       "63    2115.0    004    KARET TENGSIN  TANAH ABANG  JAKARTA PUSAT    0.000008   \n",
       "\n",
       "                                             geometry                   block  \\\n",
       "0   POLYGON Z ((700974.003 9313841.36 0, 700983.42...    KARET TENGSIN RW 006   \n",
       "1   POLYGON Z ((700504.182 9313851.429 0, 700506.8...    KARET TENGSIN RW 007   \n",
       "2   POLYGON Z ((701625.314 9313729.495 0, 701621.5...    KARET TENGSIN RW 009   \n",
       "3   POLYGON Z ((701457.052 9313704.386 0, 701456.9...    KARET TENGSIN RW 011   \n",
       "4   POLYGON Z ((700306.82 9315576.377 0, 700346.24...       PETAMBURAN RW 001   \n",
       "..                                                ...                     ...   \n",
       "59  POLYGON Z ((699929.854 9314120.258 0, 699905.1...  BENDUNGAN HILIR RW 008   \n",
       "60  POLYGON Z ((699905.121 9314096.534 0, 699837.4...  BENDUNGAN HILIR RW 009   \n",
       "61  POLYGON Z ((701046.749 9313025.221 0, 701058.6...    KARET TENGSIN RW 002   \n",
       "62  POLYGON Z ((701122.439 9313038.15 0, 701124.57...    KARET TENGSIN RW 003   \n",
       "63  POLYGON Z ((701110.683 9313384.394 0, 701114.8...    KARET TENGSIN RW 004   \n",
       "\n",
       "    green_ratio  orientation_var  compactness_mean  inter_building_dist_mean  \\\n",
       "0      0.415902      3590.460472          0.993556                199.710568   \n",
       "1      0.000000      3449.720219          0.995646                155.227199   \n",
       "2      0.094872      4135.562076          0.984119                197.330818   \n",
       "3      0.002825      3680.807258          0.910706                230.078043   \n",
       "4      0.011494      2437.405231          0.991430                107.304497   \n",
       "..          ...              ...               ...                       ...   \n",
       "59     0.000000      1839.306015          0.973128                101.857832   \n",
       "60     0.000000      1444.281833          0.936064                 31.674640   \n",
       "61     0.147651      3314.112546          0.983462                147.514043   \n",
       "62     0.138889      3982.867075          0.975545                160.773053   \n",
       "63     0.245455      3399.871502          0.996868                130.066068   \n",
       "\n",
       "    block_shape_index  \n",
       "0            1.750239  \n",
       "1            1.721052  \n",
       "2            1.728459  \n",
       "3            2.030728  \n",
       "4            1.620936  \n",
       "..                ...  \n",
       "59           2.162449  \n",
       "60           1.247414  \n",
       "61           1.631003  \n",
       "62           1.727275  \n",
       "63           1.791496  \n",
       "\n",
       "[64 rows x 13 columns]"
      ]
     },
     "execution_count": 41,
     "metadata": {},
     "output_type": "execute_result"
    }
   ],
   "source": [
    "block_unit"
   ]
  },
  {
   "cell_type": "code",
   "execution_count": 42,
   "id": "1bf0b9f3",
   "metadata": {},
   "outputs": [
    {
     "name": "stdout",
     "output_type": "stream",
     "text": [
      "<class 'geopandas.geodataframe.GeoDataFrame'>\n",
      "RangeIndex: 64 entries, 0 to 63\n",
      "Data columns (total 13 columns):\n",
      " #   Column                    Non-Null Count  Dtype   \n",
      "---  ------                    --------------  -----   \n",
      " 0   OBJECTID                  64 non-null     float64 \n",
      " 1   WADMRW                    64 non-null     object  \n",
      " 2   WADMKD                    64 non-null     object  \n",
      " 3   WADMKC                    64 non-null     object  \n",
      " 4   WADMKK                    64 non-null     object  \n",
      " 5   SHAPE_Area                64 non-null     float64 \n",
      " 6   geometry                  64 non-null     geometry\n",
      " 7   block                     64 non-null     object  \n",
      " 8   green_ratio               64 non-null     float64 \n",
      " 9   orientation_var           64 non-null     float64 \n",
      " 10  compactness_mean          64 non-null     float64 \n",
      " 11  inter_building_dist_mean  64 non-null     float64 \n",
      " 12  block_shape_index         64 non-null     float64 \n",
      "dtypes: float64(7), geometry(1), object(5)\n",
      "memory usage: 6.6+ KB\n"
     ]
    }
   ],
   "source": [
    "block_unit.info()"
   ]
  },
  {
   "cell_type": "markdown",
   "id": "39756702",
   "metadata": {},
   "source": [
    "## Block Metric Windrose"
   ]
  },
  {
   "cell_type": "code",
   "execution_count": 45,
   "id": "7effebad",
   "metadata": {},
   "outputs": [
    {
     "data": {
      "application/vnd.plotly.v1+json": {
       "config": {
        "plotlyServerURL": "https://plot.ly"
       },
       "data": [
        {
         "fill": "toself",
         "name": "KARET TENGSIN RW 006",
         "r": [
          0.9999999999999999,
          0.7364314392646427,
          0.9804366488950187,
          0.16127895442368728,
          0.11838360960873262,
          0.9999999999999999
         ],
         "theta": [
          "green_ratio",
          "orientation_var",
          "compactness_mean",
          "inter_building_dist_mean",
          "block_shape_index",
          "green_ratio"
         ],
         "type": "scatterpolar"
        }
       ],
       "layout": {
        "polar": {
         "radialaxis": {
          "range": [
           0,
           1
          ],
          "visible": true
         }
        },
        "template": {
         "data": {
          "bar": [
           {
            "error_x": {
             "color": "#2a3f5f"
            },
            "error_y": {
             "color": "#2a3f5f"
            },
            "marker": {
             "line": {
              "color": "#E5ECF6",
              "width": 0.5
             },
             "pattern": {
              "fillmode": "overlay",
              "size": 10,
              "solidity": 0.2
             }
            },
            "type": "bar"
           }
          ],
          "barpolar": [
           {
            "marker": {
             "line": {
              "color": "#E5ECF6",
              "width": 0.5
             },
             "pattern": {
              "fillmode": "overlay",
              "size": 10,
              "solidity": 0.2
             }
            },
            "type": "barpolar"
           }
          ],
          "carpet": [
           {
            "aaxis": {
             "endlinecolor": "#2a3f5f",
             "gridcolor": "white",
             "linecolor": "white",
             "minorgridcolor": "white",
             "startlinecolor": "#2a3f5f"
            },
            "baxis": {
             "endlinecolor": "#2a3f5f",
             "gridcolor": "white",
             "linecolor": "white",
             "minorgridcolor": "white",
             "startlinecolor": "#2a3f5f"
            },
            "type": "carpet"
           }
          ],
          "choropleth": [
           {
            "colorbar": {
             "outlinewidth": 0,
             "ticks": ""
            },
            "type": "choropleth"
           }
          ],
          "contour": [
           {
            "colorbar": {
             "outlinewidth": 0,
             "ticks": ""
            },
            "colorscale": [
             [
              0,
              "#0d0887"
             ],
             [
              0.1111111111111111,
              "#46039f"
             ],
             [
              0.2222222222222222,
              "#7201a8"
             ],
             [
              0.3333333333333333,
              "#9c179e"
             ],
             [
              0.4444444444444444,
              "#bd3786"
             ],
             [
              0.5555555555555556,
              "#d8576b"
             ],
             [
              0.6666666666666666,
              "#ed7953"
             ],
             [
              0.7777777777777778,
              "#fb9f3a"
             ],
             [
              0.8888888888888888,
              "#fdca26"
             ],
             [
              1,
              "#f0f921"
             ]
            ],
            "type": "contour"
           }
          ],
          "contourcarpet": [
           {
            "colorbar": {
             "outlinewidth": 0,
             "ticks": ""
            },
            "type": "contourcarpet"
           }
          ],
          "heatmap": [
           {
            "colorbar": {
             "outlinewidth": 0,
             "ticks": ""
            },
            "colorscale": [
             [
              0,
              "#0d0887"
             ],
             [
              0.1111111111111111,
              "#46039f"
             ],
             [
              0.2222222222222222,
              "#7201a8"
             ],
             [
              0.3333333333333333,
              "#9c179e"
             ],
             [
              0.4444444444444444,
              "#bd3786"
             ],
             [
              0.5555555555555556,
              "#d8576b"
             ],
             [
              0.6666666666666666,
              "#ed7953"
             ],
             [
              0.7777777777777778,
              "#fb9f3a"
             ],
             [
              0.8888888888888888,
              "#fdca26"
             ],
             [
              1,
              "#f0f921"
             ]
            ],
            "type": "heatmap"
           }
          ],
          "histogram": [
           {
            "marker": {
             "pattern": {
              "fillmode": "overlay",
              "size": 10,
              "solidity": 0.2
             }
            },
            "type": "histogram"
           }
          ],
          "histogram2d": [
           {
            "colorbar": {
             "outlinewidth": 0,
             "ticks": ""
            },
            "colorscale": [
             [
              0,
              "#0d0887"
             ],
             [
              0.1111111111111111,
              "#46039f"
             ],
             [
              0.2222222222222222,
              "#7201a8"
             ],
             [
              0.3333333333333333,
              "#9c179e"
             ],
             [
              0.4444444444444444,
              "#bd3786"
             ],
             [
              0.5555555555555556,
              "#d8576b"
             ],
             [
              0.6666666666666666,
              "#ed7953"
             ],
             [
              0.7777777777777778,
              "#fb9f3a"
             ],
             [
              0.8888888888888888,
              "#fdca26"
             ],
             [
              1,
              "#f0f921"
             ]
            ],
            "type": "histogram2d"
           }
          ],
          "histogram2dcontour": [
           {
            "colorbar": {
             "outlinewidth": 0,
             "ticks": ""
            },
            "colorscale": [
             [
              0,
              "#0d0887"
             ],
             [
              0.1111111111111111,
              "#46039f"
             ],
             [
              0.2222222222222222,
              "#7201a8"
             ],
             [
              0.3333333333333333,
              "#9c179e"
             ],
             [
              0.4444444444444444,
              "#bd3786"
             ],
             [
              0.5555555555555556,
              "#d8576b"
             ],
             [
              0.6666666666666666,
              "#ed7953"
             ],
             [
              0.7777777777777778,
              "#fb9f3a"
             ],
             [
              0.8888888888888888,
              "#fdca26"
             ],
             [
              1,
              "#f0f921"
             ]
            ],
            "type": "histogram2dcontour"
           }
          ],
          "mesh3d": [
           {
            "colorbar": {
             "outlinewidth": 0,
             "ticks": ""
            },
            "type": "mesh3d"
           }
          ],
          "parcoords": [
           {
            "line": {
             "colorbar": {
              "outlinewidth": 0,
              "ticks": ""
             }
            },
            "type": "parcoords"
           }
          ],
          "pie": [
           {
            "automargin": true,
            "type": "pie"
           }
          ],
          "scatter": [
           {
            "fillpattern": {
             "fillmode": "overlay",
             "size": 10,
             "solidity": 0.2
            },
            "type": "scatter"
           }
          ],
          "scatter3d": [
           {
            "line": {
             "colorbar": {
              "outlinewidth": 0,
              "ticks": ""
             }
            },
            "marker": {
             "colorbar": {
              "outlinewidth": 0,
              "ticks": ""
             }
            },
            "type": "scatter3d"
           }
          ],
          "scattercarpet": [
           {
            "marker": {
             "colorbar": {
              "outlinewidth": 0,
              "ticks": ""
             }
            },
            "type": "scattercarpet"
           }
          ],
          "scattergeo": [
           {
            "marker": {
             "colorbar": {
              "outlinewidth": 0,
              "ticks": ""
             }
            },
            "type": "scattergeo"
           }
          ],
          "scattergl": [
           {
            "marker": {
             "colorbar": {
              "outlinewidth": 0,
              "ticks": ""
             }
            },
            "type": "scattergl"
           }
          ],
          "scattermap": [
           {
            "marker": {
             "colorbar": {
              "outlinewidth": 0,
              "ticks": ""
             }
            },
            "type": "scattermap"
           }
          ],
          "scattermapbox": [
           {
            "marker": {
             "colorbar": {
              "outlinewidth": 0,
              "ticks": ""
             }
            },
            "type": "scattermapbox"
           }
          ],
          "scatterpolar": [
           {
            "marker": {
             "colorbar": {
              "outlinewidth": 0,
              "ticks": ""
             }
            },
            "type": "scatterpolar"
           }
          ],
          "scatterpolargl": [
           {
            "marker": {
             "colorbar": {
              "outlinewidth": 0,
              "ticks": ""
             }
            },
            "type": "scatterpolargl"
           }
          ],
          "scatterternary": [
           {
            "marker": {
             "colorbar": {
              "outlinewidth": 0,
              "ticks": ""
             }
            },
            "type": "scatterternary"
           }
          ],
          "surface": [
           {
            "colorbar": {
             "outlinewidth": 0,
             "ticks": ""
            },
            "colorscale": [
             [
              0,
              "#0d0887"
             ],
             [
              0.1111111111111111,
              "#46039f"
             ],
             [
              0.2222222222222222,
              "#7201a8"
             ],
             [
              0.3333333333333333,
              "#9c179e"
             ],
             [
              0.4444444444444444,
              "#bd3786"
             ],
             [
              0.5555555555555556,
              "#d8576b"
             ],
             [
              0.6666666666666666,
              "#ed7953"
             ],
             [
              0.7777777777777778,
              "#fb9f3a"
             ],
             [
              0.8888888888888888,
              "#fdca26"
             ],
             [
              1,
              "#f0f921"
             ]
            ],
            "type": "surface"
           }
          ],
          "table": [
           {
            "cells": {
             "fill": {
              "color": "#EBF0F8"
             },
             "line": {
              "color": "white"
             }
            },
            "header": {
             "fill": {
              "color": "#C8D4E3"
             },
             "line": {
              "color": "white"
             }
            },
            "type": "table"
           }
          ]
         },
         "layout": {
          "annotationdefaults": {
           "arrowcolor": "#2a3f5f",
           "arrowhead": 0,
           "arrowwidth": 1
          },
          "autotypenumbers": "strict",
          "coloraxis": {
           "colorbar": {
            "outlinewidth": 0,
            "ticks": ""
           }
          },
          "colorscale": {
           "diverging": [
            [
             0,
             "#8e0152"
            ],
            [
             0.1,
             "#c51b7d"
            ],
            [
             0.2,
             "#de77ae"
            ],
            [
             0.3,
             "#f1b6da"
            ],
            [
             0.4,
             "#fde0ef"
            ],
            [
             0.5,
             "#f7f7f7"
            ],
            [
             0.6,
             "#e6f5d0"
            ],
            [
             0.7,
             "#b8e186"
            ],
            [
             0.8,
             "#7fbc41"
            ],
            [
             0.9,
             "#4d9221"
            ],
            [
             1,
             "#276419"
            ]
           ],
           "sequential": [
            [
             0,
             "#0d0887"
            ],
            [
             0.1111111111111111,
             "#46039f"
            ],
            [
             0.2222222222222222,
             "#7201a8"
            ],
            [
             0.3333333333333333,
             "#9c179e"
            ],
            [
             0.4444444444444444,
             "#bd3786"
            ],
            [
             0.5555555555555556,
             "#d8576b"
            ],
            [
             0.6666666666666666,
             "#ed7953"
            ],
            [
             0.7777777777777778,
             "#fb9f3a"
            ],
            [
             0.8888888888888888,
             "#fdca26"
            ],
            [
             1,
             "#f0f921"
            ]
           ],
           "sequentialminus": [
            [
             0,
             "#0d0887"
            ],
            [
             0.1111111111111111,
             "#46039f"
            ],
            [
             0.2222222222222222,
             "#7201a8"
            ],
            [
             0.3333333333333333,
             "#9c179e"
            ],
            [
             0.4444444444444444,
             "#bd3786"
            ],
            [
             0.5555555555555556,
             "#d8576b"
            ],
            [
             0.6666666666666666,
             "#ed7953"
            ],
            [
             0.7777777777777778,
             "#fb9f3a"
            ],
            [
             0.8888888888888888,
             "#fdca26"
            ],
            [
             1,
             "#f0f921"
            ]
           ]
          },
          "colorway": [
           "#636efa",
           "#EF553B",
           "#00cc96",
           "#ab63fa",
           "#FFA15A",
           "#19d3f3",
           "#FF6692",
           "#B6E880",
           "#FF97FF",
           "#FECB52"
          ],
          "font": {
           "color": "#2a3f5f"
          },
          "geo": {
           "bgcolor": "white",
           "lakecolor": "white",
           "landcolor": "#E5ECF6",
           "showlakes": true,
           "showland": true,
           "subunitcolor": "white"
          },
          "hoverlabel": {
           "align": "left"
          },
          "hovermode": "closest",
          "mapbox": {
           "style": "light"
          },
          "paper_bgcolor": "white",
          "plot_bgcolor": "#E5ECF6",
          "polar": {
           "angularaxis": {
            "gridcolor": "white",
            "linecolor": "white",
            "ticks": ""
           },
           "bgcolor": "#E5ECF6",
           "radialaxis": {
            "gridcolor": "white",
            "linecolor": "white",
            "ticks": ""
           }
          },
          "scene": {
           "xaxis": {
            "backgroundcolor": "#E5ECF6",
            "gridcolor": "white",
            "gridwidth": 2,
            "linecolor": "white",
            "showbackground": true,
            "ticks": "",
            "zerolinecolor": "white"
           },
           "yaxis": {
            "backgroundcolor": "#E5ECF6",
            "gridcolor": "white",
            "gridwidth": 2,
            "linecolor": "white",
            "showbackground": true,
            "ticks": "",
            "zerolinecolor": "white"
           },
           "zaxis": {
            "backgroundcolor": "#E5ECF6",
            "gridcolor": "white",
            "gridwidth": 2,
            "linecolor": "white",
            "showbackground": true,
            "ticks": "",
            "zerolinecolor": "white"
           }
          },
          "shapedefaults": {
           "line": {
            "color": "#2a3f5f"
           }
          },
          "ternary": {
           "aaxis": {
            "gridcolor": "white",
            "linecolor": "white",
            "ticks": ""
           },
           "baxis": {
            "gridcolor": "white",
            "linecolor": "white",
            "ticks": ""
           },
           "bgcolor": "#E5ECF6",
           "caxis": {
            "gridcolor": "white",
            "linecolor": "white",
            "ticks": ""
           }
          },
          "title": {
           "x": 0.05
          },
          "xaxis": {
           "automargin": true,
           "gridcolor": "white",
           "linecolor": "white",
           "ticks": "",
           "title": {
            "standoff": 15
           },
           "zerolinecolor": "white",
           "zerolinewidth": 2
          },
          "yaxis": {
           "automargin": true,
           "gridcolor": "white",
           "linecolor": "white",
           "ticks": "",
           "title": {
            "standoff": 15
           },
           "zerolinecolor": "white",
           "zerolinewidth": 2
          }
         }
        },
        "title": {
         "text": "Block Metrics for RW: KARET TENGSIN RW 006"
        },
        "updatemenus": [
         {
          "buttons": [
           {
            "args": [
             {
              "r": [
               [
                0.9999999999999999,
                0.7364314392646427,
                0.9804366488950187,
                0.16127895442368728,
                0.11838360960873262,
                0.9999999999999999
               ]
              ]
             },
             {
              "title": "Normalised Block Metrics for: KARET TENGSIN RW 006"
             }
            ],
            "label": "KARET TENGSIN RW 006",
            "method": "update"
           },
           {
            "args": [
             {
              "r": [
               [
                0,
                0.6888914134003314,
                0.9871574311084412,
                0.11858432818555063,
                0.11169890893412104,
                0
               ]
              ]
             },
             {
              "title": "Normalised Block Metrics for: KARET TENGSIN RW 007"
             }
            ],
            "label": "KARET TENGSIN RW 007",
            "method": "update"
           },
           {
            "args": [
             {
              "r": [
               [
                0.22811085972850675,
                0.9205588925030719,
                0.9500888502887288,
                0.1589948983138431,
                0.11339532310156447,
                0.22811085972850675
               ]
              ]
             },
             {
              "title": "Normalised Block Metrics for: KARET TENGSIN RW 009"
             }
            ],
            "label": "KARET TENGSIN RW 009",
            "method": "update"
           },
           {
            "args": [
             {
              "r": [
               [
                0.006792123629112662,
                0.7669492793903934,
                0.7139952514365051,
                0.19042530833672633,
                0.18262456543491762,
                0.006792123629112662
               ]
              ]
             },
             {
              "title": "Normalised Block Metrics for: KARET TENGSIN RW 011"
             }
            ],
            "label": "KARET TENGSIN RW 011",
            "method": "update"
           },
           {
            "args": [
             {
              "r": [
               [
                0.027636916835699795,
                0.34694602340383046,
                0.9735998908954437,
                0.07258866895066357,
                0.08876922745558546,
                0.027636916835699795
               ]
              ]
             },
             {
              "title": "Normalised Block Metrics for: PETAMBURAN RW 001"
             }
            ],
            "label": "PETAMBURAN RW 001",
            "method": "update"
           },
           {
            "args": [
             {
              "r": [
               [
                0.6112911266201395,
                0.7852187390351122,
                0.9844708683604031,
                0.10508861771673982,
                0.12147269384921489,
                0.6112911266201395
               ]
              ]
             },
             {
              "title": "Normalised Block Metrics for: KARET TENGSIN RW 005"
             }
            ],
            "label": "KARET TENGSIN RW 005",
            "method": "update"
           },
           {
            "args": [
             {
              "r": [
               [
                0,
                0.6058672126544615,
                0.9794688672070322,
                0.10189688236565052,
                0.3164102063429774,
                0
               ]
              ]
             },
             {
              "title": "Normalised Block Metrics for: PETAMBURAN RW 002"
             }
            ],
            "label": "PETAMBURAN RW 002",
            "method": "update"
           },
           {
            "args": [
             {
              "r": [
               [
                0,
                0.4880524556936235,
                0.9811017022853159,
                0.1126334380468227,
                0.18394064446871072,
                0
               ]
              ]
             },
             {
              "title": "Normalised Block Metrics for: PETAMBURAN RW 003"
             }
            ],
            "label": "PETAMBURAN RW 003",
            "method": "update"
           },
           {
            "args": [
             {
              "r": [
               [
                0,
                0.8292829832528441,
                0.9842764498034895,
                0.10614058062152561,
                0.1428247088672086,
                0
               ]
              ]
             },
             {
              "title": "Normalised Block Metrics for: PETAMBURAN RW 004"
             }
            ],
            "label": "PETAMBURAN RW 004",
            "method": "update"
           },
           {
            "args": [
             {
              "r": [
               [
                0,
                0.6778156544227758,
                0.9679539396778121,
                0.11815451846329707,
                0.2557703747037619,
                0
               ]
              ]
             },
             {
              "title": "Normalised Block Metrics for: PETAMBURAN RW 005"
             }
            ],
            "label": "PETAMBURAN RW 005",
            "method": "update"
           },
           {
            "args": [
             {
              "r": [
               [
                0.052269820971867005,
                0.5862488100277647,
                0.9672651218247679,
                0.08686239784620048,
                0.2637598900397489,
                0.052269820971867005
               ]
              ]
             },
             {
              "title": "Normalised Block Metrics for: PETAMBURAN RW 006"
             }
            ],
            "label": "PETAMBURAN RW 006",
            "method": "update"
           },
           {
            "args": [
             {
              "r": [
               [
                0.07071799307958478,
                0.7500477177316729,
                0.9939157367230869,
                0.07697105274100821,
                1,
                0.07071799307958478
               ]
              ]
             },
             {
              "title": "Normalised Block Metrics for: PETAMBURAN RW 007"
             }
            ],
            "label": "PETAMBURAN RW 007",
            "method": "update"
           },
           {
            "args": [
             {
              "r": [
               [
                0.22336065573770492,
                0.9531239100897122,
                0.9930975518156884,
                0.12002207887700732,
                0.30040674062835665,
                0.22336065573770492
               ]
              ]
             },
             {
              "title": "Normalised Block Metrics for: PETAMBURAN RW 008"
             }
            ],
            "label": "PETAMBURAN RW 008",
            "method": "update"
           },
           {
            "args": [
             {
              "r": [
               [
                0.08587184873949578,
                0.0388986957761846,
                0.8270271454256926,
                0.09542108092648637,
                0.3459960299499127,
                0.08587184873949578
               ]
              ]
             },
             {
              "title": "Normalised Block Metrics for: PETAMBURAN RW 009"
             }
            ],
            "label": "PETAMBURAN RW 009",
            "method": "update"
           },
           {
            "args": [
             {
              "r": [
               [
                0.18033088235294117,
                0.5903269517382139,
                0.4196744366219951,
                0.016856626895765725,
                0.12031431222240546,
                0.18033088235294117
               ]
              ]
             },
             {
              "title": "Normalised Block Metrics for: PETAMBURAN RW 010"
             }
            ],
            "label": "PETAMBURAN RW 010",
            "method": "update"
           },
           {
            "args": [
             {
              "r": [
               [
                0.04565338793745346,
                0.19114609723908654,
                0.9642818714548205,
                0.1309708908342695,
                0.23238410376410018,
                0.04565338793745346
               ]
              ]
             },
             {
              "title": "Normalised Block Metrics for: KEBON MELATI RW 002"
             }
            ],
            "label": "KEBON MELATI RW 002",
            "method": "update"
           },
           {
            "args": [
             {
              "r": [
               [
                0.2060924369747899,
                0.6288681455929368,
                0.995198141374658,
                0.036422286173204005,
                0.09687672626882082,
                0.2060924369747899
               ]
              ]
             },
             {
              "title": "Normalised Block Metrics for: KEBON MELATI RW 003"
             }
            ],
            "label": "KEBON MELATI RW 003",
            "method": "update"
           },
           {
            "args": [
             {
              "r": [
               [
                0,
                0,
                0.9944898512156022,
                0.02996657293480362,
                0.1778923389691665,
                0
               ]
              ]
             },
             {
              "title": "Normalised Block Metrics for: KEBON MELATI RW 004"
             }
            ],
            "label": "KEBON MELATI RW 004",
            "method": "update"
           },
           {
            "args": [
             {
              "r": [
               [
                0.06245225362872422,
                0.2572267488774033,
                0.9763370811036354,
                0.06471712462103552,
                0.058920258525931135,
                0.06245225362872422
               ]
              ]
             },
             {
              "title": "Normalised Block Metrics for: KEBON MELATI RW 005"
             }
            ],
            "label": "KEBON MELATI RW 005",
            "method": "update"
           },
           {
            "args": [
             {
              "r": [
               [
                0,
                0.5727100493862141,
                0.8030507138856691,
                0.04078324133209803,
                0.01590640856678943,
                0
               ]
              ]
             },
             {
              "title": "Normalised Block Metrics for: PETAMBURAN RW 011"
             }
            ],
            "label": "PETAMBURAN RW 011",
            "method": "update"
           },
           {
            "args": [
             {
              "r": [
               [
                0.2852691924227318,
                0.33734049578650555,
                0.9946747182031688,
                0.07672986383404991,
                0.1894398652332247,
                0.2852691924227318
               ]
              ]
             },
             {
              "title": "Normalised Block Metrics for: KEBON MELATI RW 006"
             }
            ],
            "label": "KEBON MELATI RW 006",
            "method": "update"
           },
           {
            "args": [
             {
              "r": [
               [
                0.14661047345767575,
                0.7370548418797997,
                0.9226772278567625,
                0.11529971131844015,
                0.10561175170875631,
                0.14661047345767575
               ]
              ]
             },
             {
              "title": "Normalised Block Metrics for: KEBON MELATI RW 007"
             }
            ],
            "label": "KEBON MELATI RW 007",
            "method": "update"
           },
           {
            "args": [
             {
              "r": [
               [
                0.06527814745807825,
                0.40772094001224574,
                0.947299564667262,
                0.12405527553941882,
                0.04190516934942001,
                0.06527814745807825
               ]
              ]
             },
             {
              "title": "Normalised Block Metrics for: KEBON MELATI RW 009"
             }
            ],
            "label": "KEBON MELATI RW 009",
            "method": "update"
           },
           {
            "args": [
             {
              "r": [
               [
                0,
                0.5930299375430792,
                0.9864894910690793,
                0.12738003309719803,
                0.11327979877371658,
                0
               ]
              ]
             },
             {
              "title": "Normalised Block Metrics for: KEBON MELATI RW 012"
             }
            ],
            "label": "KEBON MELATI RW 012",
            "method": "update"
           },
           {
            "args": [
             {
              "r": [
               [
                0,
                0.7958393351599564,
                0.9988356873167228,
                0.09871817740348353,
                0.06999967927738915,
                0
               ]
              ]
             },
             {
              "title": "Normalised Block Metrics for: KEBON MELATI RW 013"
             }
            ],
            "label": "KEBON MELATI RW 013",
            "method": "update"
           },
           {
            "args": [
             {
              "r": [
               [
                0,
                0.46136737744883144,
                0.985583712965894,
                0.10670556401220109,
                0.20357105410496584,
                0
               ]
              ]
             },
             {
              "title": "Normalised Block Metrics for: KEBON MELATI RW 014"
             }
            ],
            "label": "KEBON MELATI RW 014",
            "method": "update"
           },
           {
            "args": [
             {
              "r": [
               [
                0,
                0.9178989152444006,
                0.9971344501497899,
                0.005210869254483441,
                0.012313601586297795,
                0
               ]
              ]
             },
             {
              "title": "Normalised Block Metrics for: KEBON MELATI RW 015"
             }
            ],
            "label": "KEBON MELATI RW 015",
            "method": "update"
           },
           {
            "args": [
             {
              "r": [
               [
                0.04940572119258662,
                0.672882856890195,
                0.9889515066002792,
                0.1164418028829262,
                0.7632071624158938,
                0.04940572119258662
               ]
              ]
             },
             {
              "title": "Normalised Block Metrics for: KEBON MELATI RW 016"
             }
            ],
            "label": "KEBON MELATI RW 016",
            "method": "update"
           },
           {
            "args": [
             {
              "r": [
               [
                0,
                0.7000027837786571,
                0.9743425156177263,
                0.11498452929007309,
                0.07958411941893107,
                0
               ]
              ]
             },
             {
              "title": "Normalised Block Metrics for: KEBON MELATI RW 017"
             }
            ],
            "label": "KEBON MELATI RW 017",
            "method": "update"
           },
           {
            "args": [
             {
              "r": [
               [
                0.07071799307958478,
                0.19150102542959174,
                0.8850589450106412,
                0.05814556781228633,
                0.07962519149695546,
                0.07071799307958478
               ]
              ]
             },
             {
              "title": "Normalised Block Metrics for: KEBON KACANG RW 001"
             }
            ],
            "label": "KEBON KACANG RW 001",
            "method": "update"
           },
           {
            "args": [
             {
              "r": [
               [
                0,
                0.4356951643335077,
                0.7048059810056935,
                0.08051669181525856,
                0.11960906943614591,
                0
               ]
              ]
             },
             {
              "title": "Normalised Block Metrics for: KEBON KACANG RW 002"
             }
            ],
            "label": "KEBON KACANG RW 002",
            "method": "update"
           },
           {
            "args": [
             {
              "r": [
               [
                0.5548642533936652,
                0.48850278439807887,
                0.8559731460101001,
                0.06022934018376655,
                0.07470940584845481,
                0.5548642533936652
               ]
              ]
             },
             {
              "title": "Normalised Block Metrics for: KEBON KACANG RW 003"
             }
            ],
            "label": "KEBON KACANG RW 003",
            "method": "update"
           },
           {
            "args": [
             {
              "r": [
               [
                0,
                0.6507582480204581,
                0.9630590633832772,
                0.1313057228871049,
                0.3633800590274551,
                0
               ]
              ]
             },
             {
              "title": "Normalised Block Metrics for: KEBON KACANG RW 005"
             }
            ],
            "label": "KEBON KACANG RW 005",
            "method": "update"
           },
           {
            "args": [
             {
              "r": [
               [
                0,
                0.33642860105105515,
                0.9745453039206686,
                0.11152480128599772,
                0.09700127184439855,
                0
               ]
              ]
             },
             {
              "title": "Normalised Block Metrics for: KEBON KACANG RW 006"
             }
            ],
            "label": "KEBON KACANG RW 006",
            "method": "update"
           },
           {
            "args": [
             {
              "r": [
               [
                0,
                0.5976205073443193,
                0.9577026435578824,
                0.11108571538569474,
                0.39186353671561563,
                0
               ]
              ]
             },
             {
              "title": "Normalised Block Metrics for: KEBON KACANG RW 007"
             }
            ],
            "label": "KEBON KACANG RW 007",
            "method": "update"
           },
           {
            "args": [
             {
              "r": [
               [
                0,
                0.3231663692831364,
                0.9720734164772842,
                0.10207421900786627,
                0.14572325378978446,
                0
               ]
              ]
             },
             {
              "title": "Normalised Block Metrics for: KEBON KACANG RW 008"
             }
            ],
            "label": "KEBON KACANG RW 008",
            "method": "update"
           },
           {
            "args": [
             {
              "r": [
               [
                0.08291075050709938,
                0.5396723901532874,
                0.9234221102393749,
                0.11706413639689929,
                0.052512329398064495,
                0.08291075050709938
               ]
              ]
             },
             {
              "title": "Normalised Block Metrics for: KEBON KACANG RW 004"
             }
            ],
            "label": "KEBON KACANG RW 004",
            "method": "update"
           },
           {
            "args": [
             {
              "r": [
               [
                0,
                0.656256419173898,
                0.9831517167370851,
                0.09743525952192449,
                0.0872093231045955,
                0
               ]
              ]
             },
             {
              "title": "Normalised Block Metrics for: KEBON KACANG RW 009"
             }
            ],
            "label": "KEBON KACANG RW 009",
            "method": "update"
           },
           {
            "args": [
             {
              "r": [
               [
                0,
                0.9376640586272935,
                0,
                0.04025263416456756,
                0.06452910819563679,
                0
               ]
              ]
             },
             {
              "title": "Normalised Block Metrics for: KEBON KACANG RW 010"
             }
            ],
            "label": "KEBON KACANG RW 010",
            "method": "update"
           },
           {
            "args": [
             {
              "r": [
               [
                0,
                0.42635689787190284,
                1,
                0.03638428917984113,
                0.055439901577132134,
                0
               ]
              ]
             },
             {
              "title": "Normalised Block Metrics for: KEBON KACANG RW 011"
             }
            ],
            "label": "KEBON KACANG RW 011",
            "method": "update"
           },
           {
            "args": [
             {
              "r": [
               [
                0,
                1,
                0.9991020995887703,
                0.03451336857659827,
                0.05354001901355954,
                0
               ]
              ]
             },
             {
              "title": "Normalised Block Metrics for: KAMPUNG BALI RW 001"
             }
            ],
            "label": "KAMPUNG BALI RW 001",
            "method": "update"
           },
           {
            "args": [
             {
              "r": [
               [
                0,
                0.31926720215192333,
                0.9417737368687868,
                0.05914644584586291,
                0.01691210169518903,
                0
               ]
              ]
             },
             {
              "title": "Normalised Block Metrics for: KAMPUNG BALI RW 002"
             }
            ],
            "label": "KAMPUNG BALI RW 002",
            "method": "update"
           },
           {
            "args": [
             {
              "r": [
               [
                0,
                0.40443294352769793,
                0.9603259031538469,
                0.1330180790007281,
                0.20571290073298926,
                0
               ]
              ]
             },
             {
              "title": "Normalised Block Metrics for: KAMPUNG BALI RW 003"
             }
            ],
            "label": "KAMPUNG BALI RW 003",
            "method": "update"
           },
           {
            "args": [
             {
              "r": [
               [
                0,
                0.7656084770601359,
                0.9833078141268268,
                0.07008004418220386,
                0.04046519199645782,
                0
               ]
              ]
             },
             {
              "title": "Normalised Block Metrics for: KAMPUNG BALI RW 004"
             }
            ],
            "label": "KAMPUNG BALI RW 004",
            "method": "update"
           },
           {
            "args": [
             {
              "r": [
               [
                0,
                0.5502174924784593,
                0.9727195027508468,
                0.09813641054800627,
                0.2431188139796831,
                0
               ]
              ]
             },
             {
              "title": "Normalised Block Metrics for: KAMPUNG BALI RW 005"
             }
            ],
            "label": "KAMPUNG BALI RW 005",
            "method": "update"
           },
           {
            "args": [
             {
              "r": [
               [
                0,
                0.8371269478299972,
                0.9805079304497064,
                0.06509819351438158,
                0.05778012460357401,
                0
               ]
              ]
             },
             {
              "title": "Normalised Block Metrics for: KAMPUNG BALI RW 006"
             }
            ],
            "label": "KAMPUNG BALI RW 006",
            "method": "update"
           },
           {
            "args": [
             {
              "r": [
               [
                0,
                0.6481615734856843,
                0.9307831457531179,
                0.11964535271307476,
                0.13072405244416457,
                0
               ]
              ]
             },
             {
              "title": "Normalised Block Metrics for: KAMPUNG BALI RW 007"
             }
            ],
            "label": "KAMPUNG BALI RW 007",
            "method": "update"
           },
           {
            "args": [
             {
              "r": [
               [
                0.10123839009287924,
                0.625119679313612,
                0.9641133245225055,
                0.09680487765127553,
                0.17219808144333004,
                0.10123839009287924
               ]
              ]
             },
             {
              "title": "Normalised Block Metrics for: KAMPUNG BALI RW 008"
             }
            ],
            "label": "KAMPUNG BALI RW 008",
            "method": "update"
           },
           {
            "args": [
             {
              "r": [
               [
                0,
                0.49750150921679465,
                0.9859342143227736,
                0.07575231847117692,
                0.10553712917463853,
                0
               ]
              ]
             },
             {
              "title": "Normalised Block Metrics for: KAMPUNG BALI RW 009"
             }
            ],
            "label": "KAMPUNG BALI RW 009",
            "method": "update"
           },
           {
            "args": [
             {
              "r": [
               [
                0.19852941176470587,
                0.4440648150102435,
                0.9533693154137364,
                0.09779299382458802,
                0.09618697341381383,
                0.19852941176470587
               ]
              ]
             },
             {
              "title": "Normalised Block Metrics for: KAMPUNG BALI RW 010"
             }
            ],
            "label": "KAMPUNG BALI RW 010",
            "method": "update"
           },
           {
            "args": [
             {
              "r": [
               [
                0.6122308618153334,
                0.6136769035837193,
                0.7917708308872546,
                0.9999999999999999,
                0.10353003133687627,
                0.6122308618153334
               ]
              ]
             },
             {
              "title": "Normalised Block Metrics for: GELORA RW 001"
             }
            ],
            "label": "GELORA RW 001",
            "method": "update"
           },
           {
            "args": [
             {
              "r": [
               [
                0.7920829385927137,
                0.5387958133302493,
                0.9321184352065219,
                0.2754712403161227,
                0.8222518342554788,
                0.7920829385927137
               ]
              ]
             },
             {
              "title": "Normalised Block Metrics for: GELORA RW 002"
             }
            ],
            "label": "GELORA RW 002",
            "method": "update"
           },
           {
            "args": [
             {
              "r": [
               [
                0.14542813092979126,
                0.30265377149575884,
                0.9669466629772487,
                0.1474436220363291,
                0.3593148431984014,
                0.14542813092979126
               ]
              ]
             },
             {
              "title": "Normalised Block Metrics for: BENDUNGAN HILIR RW 001"
             }
            ],
            "label": "BENDUNGAN HILIR RW 001",
            "method": "update"
           },
           {
            "args": [
             {
              "r": [
               [
                0.17174369747899157,
                0.4079165029075053,
                0.9570848974561548,
                0.20663831263388333,
                0.13022435190329834,
                0.17174369747899157
               ]
              ]
             },
             {
              "title": "Normalised Block Metrics for: BENDUNGAN HILIR RW 002"
             }
            ],
            "label": "BENDUNGAN HILIR RW 002",
            "method": "update"
           },
           {
            "args": [
             {
              "r": [
               [
                0.01748663101604278,
                0.31469439197723653,
                0.9544928899303335,
                0.21137611843388526,
                0.26620898613882976,
                0.01748663101604278
               ]
              ]
             },
             {
              "title": "Normalised Block Metrics for: BENDUNGAN HILIR RW 003"
             }
            ],
            "label": "BENDUNGAN HILIR RW 003",
            "method": "update"
           },
           {
            "args": [
             {
              "r": [
               [
                0.009355687800411993,
                0.5651568788496926,
                0.9423739603855372,
                0.2294287029067199,
                0.15137143231082018,
                0.009355687800411993
               ]
              ]
             },
             {
              "title": "Normalised Block Metrics for: BENDUNGAN HILIR RW 004"
             }
            ],
            "label": "BENDUNGAN HILIR RW 004",
            "method": "update"
           },
           {
            "args": [
             {
              "r": [
               [
                0.018424611223799865,
                0.19726766104075916,
                0.9709559170118536,
                0.16337903592299147,
                0.06652392235968746,
                0.018424611223799865
               ]
              ]
             },
             {
              "title": "Normalised Block Metrics for: BENDUNGAN HILIR RW 005"
             }
            ],
            "label": "BENDUNGAN HILIR RW 005",
            "method": "update"
           },
           {
            "args": [
             {
              "r": [
               [
                0.012654798761609905,
                0.4185354539564839,
                0.9681419978150902,
                0.3670553775595809,
                0.5890177304372466,
                0.012654798761609905
               ]
              ]
             },
             {
              "title": "Normalised Block Metrics for: BENDUNGAN HILIR RW 006"
             }
            ],
            "label": "BENDUNGAN HILIR RW 006",
            "method": "update"
           },
           {
            "args": [
             {
              "r": [
               [
                0.027636916835699795,
                0.370153128202334,
                0.9741194656332652,
                0.07890499000017345,
                0,
                0.027636916835699795
               ]
              ]
             },
             {
              "title": "Normalised Block Metrics for: BENDUNGAN HILIR RW 007"
             }
            ],
            "label": "BENDUNGAN HILIR RW 007",
            "method": "update"
           },
           {
            "args": [
             {
              "r": [
               [
                0,
                0.14491674213665012,
                0.9147396060624184,
                0.06736102196622823,
                0.21279293503980506,
                0
               ]
              ]
             },
             {
              "title": "Normalised Block Metrics for: BENDUNGAN HILIR RW 008"
             }
            ],
            "label": "BENDUNGAN HILIR RW 008",
            "method": "update"
           },
           {
            "args": [
             {
              "r": [
               [
                0,
                0.011483275751504152,
                0.7955456401025218,
                0,
                0.0032207129003510304,
                0
               ]
              ]
             },
             {
              "title": "Normalised Block Metrics for: BENDUNGAN HILIR RW 009"
             }
            ],
            "label": "BENDUNGAN HILIR RW 009",
            "method": "update"
           },
           {
            "args": [
             {
              "r": [
               [
                0.35501381760757994,
                0.6430850990643189,
                0.9479746054934646,
                0.11118132940189525,
                0.09107490621791325,
                0.35501381760757994
               ]
              ]
             },
             {
              "title": "Normalised Block Metrics for: KARET TENGSIN RW 002"
             }
            ],
            "label": "KARET TENGSIN RW 002",
            "method": "update"
           },
           {
            "args": [
             {
              "r": [
               [
                0.33394607843137253,
                0.8689807251474897,
                0.9225130110655617,
                0.12390717449183732,
                0.11312417963706362,
                0.33394607843137253
               ]
              ]
             },
             {
              "title": "Normalised Block Metrics for: KARET TENGSIN RW 003"
             }
            ],
            "label": "KARET TENGSIN RW 003",
            "method": "update"
           },
           {
            "args": [
             {
              "r": [
               [
                0.5901737967914438,
                0.6720532364059928,
                0.9910869941329241,
                0.09443496282105282,
                0.12783282753282177,
                0.5901737967914438
               ]
              ]
             },
             {
              "title": "Normalised Block Metrics for: KARET TENGSIN RW 004"
             }
            ],
            "label": "KARET TENGSIN RW 004",
            "method": "update"
           }
          ],
          "direction": "down",
          "type": "dropdown",
          "x": 1.1,
          "y": 1.15
         }
        ]
       }
      }
     },
     "metadata": {},
     "output_type": "display_data"
    }
   ],
   "source": [
    "import plotly.graph_objects as go\n",
    "from sklearn.preprocessing import MinMaxScaler\n",
    "\n",
    "# List of columns to normalize\n",
    "cols = [\n",
    "    'green_ratio', \n",
    "    'orientation_var', \n",
    "    'compactness_mean', \n",
    "    'inter_building_dist_mean', \n",
    "    'block_shape_index'\n",
    "]\n",
    "\n",
    "# Drop rows with missing values in any of these columns\n",
    "plot_df = block_unit.dropna(subset=cols + ['block'])\n",
    "\n",
    "# Normalize the columns\n",
    "scaler = MinMaxScaler()\n",
    "norm_values = scaler.fit_transform(plot_df[cols])\n",
    "norm_df = plot_df.copy()\n",
    "norm_df[cols] = norm_values\n",
    "\n",
    "# Prepare radar plot data for each WADMRW\n",
    "categories = cols + [cols[0]]  # close the loop for radar\n",
    "radar_data = {}\n",
    "for idx, row in norm_df.iterrows():\n",
    "    values = [row[col] for col in cols]\n",
    "    values += [values[0]]  # close the loop\n",
    "    radar_data[row['block']] = values\n",
    "\n",
    "# Create initial radar plot for the first WADMRW\n",
    "first_wadm = norm_df['block'].iloc[0]\n",
    "fig = go.Figure()\n",
    "\n",
    "fig.add_trace(go.Scatterpolar(\n",
    "    r=radar_data[first_wadm],\n",
    "    theta=categories,\n",
    "    fill='toself',\n",
    "    name=str(first_wadm)\n",
    "))\n",
    "\n",
    "# Add dropdown for block selection\n",
    "dropdown_buttons = []\n",
    "for wadm in norm_df['block']:\n",
    "    dropdown_buttons.append(\n",
    "        dict(\n",
    "            method='update',\n",
    "            label=str(wadm),\n",
    "            args=[{'r': [radar_data[wadm]]}, \n",
    "                  {'title': f'Normalised Block Metrics for: {wadm}'}]\n",
    "        )\n",
    "    )\n",
    "\n",
    "fig.update_layout(\n",
    "    polar=dict(\n",
    "        radialaxis=dict(\n",
    "            visible=True,\n",
    "            range=[0, 1]\n",
    "        )\n",
    "    ),\n",
    "    updatemenus=[dict(\n",
    "        type=\"dropdown\",\n",
    "        direction=\"down\",\n",
    "        buttons=dropdown_buttons,\n",
    "        x=1.1,\n",
    "        y=1.15\n",
    "    )],\n",
    "    title=f'Block Metrics for RW: {first_wadm}'\n",
    ")\n",
    "\n",
    "fig.show()"
   ]
  },
  {
   "cell_type": "markdown",
   "id": "b65056e2",
   "metadata": {},
   "source": [
    "# ==============="
   ]
  }
 ],
 "metadata": {
  "kernelspec": {
   "display_name": "Python 3",
   "language": "python",
   "name": "python3"
  },
  "language_info": {
   "codemirror_mode": {
    "name": "ipython",
    "version": 3
   },
   "file_extension": ".py",
   "mimetype": "text/x-python",
   "name": "python",
   "nbconvert_exporter": "python",
   "pygments_lexer": "ipython3",
   "version": "3.9.13"
  }
 },
 "nbformat": 4,
 "nbformat_minor": 5
}
